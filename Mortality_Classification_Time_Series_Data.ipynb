{
  "nbformat": 4,
  "nbformat_minor": 0,
  "metadata": {
    "colab": {
      "name": "Mortality Classification - Time Series Data.ipynb",
      "provenance": [],
      "collapsed_sections": [],
      "authorship_tag": "ABX9TyOQ6BtnlbefnyYjJHkIF5+h"
    },
    "kernelspec": {
      "name": "python3",
      "display_name": "Python 3"
    },
    "accelerator": "GPU"
  },
  "cells": [
    {
      "cell_type": "code",
      "metadata": {
        "id": "nGOX7-kACT2B",
        "colab_type": "code",
        "outputId": "6c01a11b-ca82-45c2-d4d4-4314409f1558",
        "colab": {
          "base_uri": "https://localhost:8080/",
          "height": 89
        }
      },
      "source": [
        "import tensorflow as tf\n",
        "from tensorflow.keras.callbacks import ModelCheckpoint, EarlyStopping\n",
        "from tensorflow.keras import Sequential\n",
        "from tensorflow.keras.layers import Dense, Activation, Flatten, Dropout, LSTM, Conv1D, MaxPool1D, TimeDistributed, Bidirectional,MaxPooling1D\n",
        "from sklearn.model_selection import train_test_split\n",
        "from sklearn.ensemble import RandomForestRegressor\n",
        "from sklearn.metrics import mean_absolute_error \n",
        "from matplotlib import pyplot as plt\n",
        "import seaborn as sb\n",
        "import matplotlib.pyplot as plt\n",
        "import pandas as pd\n",
        "import numpy as np\n",
        "import json\n",
        "from pathlib import Path\n",
        "import os\n",
        "import warnings \n",
        "warnings.filterwarnings('ignore')\n",
        "warnings.filterwarnings('ignore', category=DeprecationWarning)\n",
        "import random as rn\n",
        "\n",
        "#added\n",
        "from keras.wrappers.scikit_learn import KerasClassifier\n",
        "from sklearn.model_selection import GridSearchCV\n",
        "#from keras.optimizers import adam\n",
        "from tensorflow.keras.optimizers import Adam, SGD\n",
        "from tensorflow.keras.layers import LeakyReLU\n",
        "from tensorflow.keras.losses import MeanSquaredLogarithmicError\n",
        "from tensorflow.keras.layers import BatchNormalization\n",
        "from tensorflow.keras.metrics import AUC\n",
        "\n",
        "#For ROC calculation\n",
        "from sklearn.metrics import roc_curve\n",
        "from sklearn.metrics import auc\n",
        "\n",
        "#For reproducable results\n",
        "tf.random.set_seed(1234)\n",
        "os.environ['PYTHONHASHSEED'] = '0'\n",
        "np.random.seed(42)\n",
        "rn.seed(12345)\n"
      ],
      "execution_count": 1,
      "outputs": [
        {
          "output_type": "stream",
          "text": [
            "/usr/local/lib/python3.6/dist-packages/statsmodels/tools/_testing.py:19: FutureWarning: pandas.util.testing is deprecated. Use the functions in the public API at pandas.testing instead.\n",
            "  import pandas.util.testing as tm\n",
            "Using TensorFlow backend.\n"
          ],
          "name": "stderr"
        }
      ]
    },
    {
      "cell_type": "code",
      "metadata": {
        "id": "0LrnqBUswbXa",
        "colab_type": "code",
        "colab": {
          "base_uri": "https://localhost:8080/",
          "height": 124
        },
        "outputId": "515ff08d-a39e-49a4-8d84-3db856c7f063"
      },
      "source": [
        "#Mount Google Drive to read data\n",
        "from google.colab import drive\n",
        "drive.mount('/content/drive')"
      ],
      "execution_count": 2,
      "outputs": [
        {
          "output_type": "stream",
          "text": [
            "Go to this URL in a browser: https://accounts.google.com/o/oauth2/auth?client_id=947318989803-6bn6qk8qdgf4n4g3pfee6491hc0brc4i.apps.googleusercontent.com&redirect_uri=urn%3aietf%3awg%3aoauth%3a2.0%3aoob&response_type=code&scope=email%20https%3a%2f%2fwww.googleapis.com%2fauth%2fdocs.test%20https%3a%2f%2fwww.googleapis.com%2fauth%2fdrive%20https%3a%2f%2fwww.googleapis.com%2fauth%2fdrive.photos.readonly%20https%3a%2f%2fwww.googleapis.com%2fauth%2fpeopleapi.readonly\n",
            "\n",
            "Enter your authorization code:\n",
            "··········\n",
            "Mounted at /content/drive\n"
          ],
          "name": "stdout"
        }
      ]
    },
    {
      "cell_type": "code",
      "metadata": {
        "id": "uFbKgp8fZkfl",
        "colab_type": "code",
        "outputId": "f2268a65-183e-4a28-a09d-104a0abb0979",
        "colab": {
          "base_uri": "https://localhost:8080/",
          "height": 104
        }
      },
      "source": [
        "# x = pd.read_csv(\"/content/drive/My Drive/Data/x_AllData.csv\")    \n",
        "# y = pd.read_csv(\"/content/drive/My Drive/Data/y_AllData.csv\")  \n",
        "x_in = pd.read_csv(\"/content/drive/My Drive/Data/x_AllData_NOzero.csv\")    \n",
        "y_in = pd.read_csv(\"/content/drive/My Drive/Data/y_AllData_NOzero.csv\")  \n",
        "\n",
        "#Drop people with LOS < 24 (1 day)\n",
        "idx = y_in[y_in['LOS_ICU'] <= 24].index\n",
        "x_in = x_in.drop(idx)\n",
        "y_in = y_in.drop(idx)\n",
        "\n",
        "#Drop people with LOS > 24*30 (30 day)\n",
        "idx = y_in[y_in['LOS_ICU'] >= 24*30].index\n",
        "x_in = x_in.drop(idx)\n",
        "y_in = y_in.drop(idx)\n",
        "\n",
        "x_in = x_in.drop('Unnamed: 0', axis=1)\n",
        "\n",
        "x = x_in\n",
        "y = y_in\n",
        "print(x.shape)\n",
        "print(y.shape)\n",
        "\n",
        "# For graphs\n",
        "idx_1 = (y['icustay_expire_flag']==1)\n",
        "idx_0 = (y['icustay_expire_flag']==0)\n",
        "\n",
        "# Overall mortality\n",
        "y = y['icustay_expire_flag']\n",
        "np.histogram(y)"
      ],
      "execution_count": 3,
      "outputs": [
        {
          "output_type": "stream",
          "text": [
            "(29497, 125)\n",
            "(29497, 4)\n"
          ],
          "name": "stdout"
        },
        {
          "output_type": "execute_result",
          "data": {
            "text/plain": [
              "(array([27392,     0,     0,     0,     0,     0,     0,     0,     0,\n",
              "         2105]),\n",
              " array([0. , 0.1, 0.2, 0.3, 0.4, 0.5, 0.6, 0.7, 0.8, 0.9, 1. ]))"
            ]
          },
          "metadata": {
            "tags": []
          },
          "execution_count": 3
        }
      ]
    },
    {
      "cell_type": "code",
      "metadata": {
        "id": "8oad19F27onE",
        "colab_type": "code",
        "colab": {}
      },
      "source": [
        "def reshape_features(x,features,timestamps):\n",
        "  x  = x.to_numpy()\n",
        "  patients = x.shape[0]\n",
        "  timestamps = int(x.shape[1]/features)\n",
        "  df = np.empty([patients, timestamps, features], dtype=float)\n",
        "  for i in range(0,features):\n",
        "    df[:,:,i] = x[:,(i*25):(i*25+timestamps)]\n",
        "  return df\n",
        "\n",
        "#Reshape x into 3D tensor\n",
        "\n",
        "features = 5\n",
        "timestamps = 25\n",
        "x = reshape_features(x,features,timestamps)"
      ],
      "execution_count": 0,
      "outputs": []
    },
    {
      "cell_type": "markdown",
      "metadata": {
        "id": "LFURl9TDkPZW",
        "colab_type": "text"
      },
      "source": [
        "Plot mean variation for each feature for different mortality and LOS conditions"
      ]
    },
    {
      "cell_type": "code",
      "metadata": {
        "id": "245HnatikOqf",
        "colab_type": "code",
        "colab": {}
      },
      "source": [
        "#   patient_0 = np.mean(x[idx_0,:,:], axis = 0)\n",
        "#   patient_1 = np.mean(x[idx_1,:,:], axis = 0)\n",
        "#   vital_names = ['DiasBP(mmHg)','Heart Rate(BPM)','MeanBP(mmHg)','SpO2(%)','SysBP(mmHg)']\n",
        "#   i = 4\n",
        "#   from google.colab import files\n",
        "# # for i in [0,1,2,3,4]:\n",
        "#   plt.plot(patient_0[:,i], label='Mortality=0')\n",
        "#   plt.plot(patient_1[:,i], label='Mortality=1')\n",
        "#   plt.title('Variation of '+ vital_names[i])\n",
        "#   plt.xlabel('Hour in ICU')\n",
        "#   plt.ylabel(vital_names[i])\n",
        "#   plt.legend(loc=\"upper right\")\n",
        "#   plt.savefig(vital_names[i] + '.png', bbox_inches='tight', format='png', dpi=300)\n",
        "#   # plt.rcParams.update({'font.size': 20})\n",
        "#   # files.download(vital_names[i] + '.png')\n",
        "#   # plt.show()"
      ],
      "execution_count": 0,
      "outputs": []
    },
    {
      "cell_type": "code",
      "metadata": {
        "id": "6RwgzxQC3w8k",
        "colab_type": "code",
        "outputId": "63a41c9e-0813-42c3-e41a-b6908bfe90b9",
        "colab": {
          "base_uri": "https://localhost:8080/",
          "height": 35
        }
      },
      "source": [
        "#Split data\n",
        "X_train, X_test, y_train, y_test = train_test_split(x, y, test_size = 0.2, stratify = y, random_state = 25)\n",
        "y_test.shape"
      ],
      "execution_count": 6,
      "outputs": [
        {
          "output_type": "execute_result",
          "data": {
            "text/plain": [
              "(5900,)"
            ]
          },
          "metadata": {
            "tags": []
          },
          "execution_count": 6
        }
      ]
    },
    {
      "cell_type": "code",
      "metadata": {
        "id": "FmYnMi5WBZzs",
        "colab_type": "code",
        "colab": {}
      },
      "source": [
        "from sklearn.utils import class_weight\n",
        "# Calculate class weights \n",
        "class_weights = class_weight.compute_class_weight('balanced', np.unique(y_train), y_train)\n",
        "class_weights = dict(enumerate(class_weights))"
      ],
      "execution_count": 0,
      "outputs": []
    },
    {
      "cell_type": "code",
      "metadata": {
        "id": "Sk4MKN8gfRrC",
        "colab_type": "code",
        "colab": {}
      },
      "source": [
        "def genData(x,y):\n",
        "  from sklearn.model_selection import train_test_split\n",
        "  # #Generate synthetic samples\n",
        "  from imblearn.over_sampling import SMOTE\n",
        "  sm = SMOTE(random_state=27, ratio=1.0)\n",
        "  features = x.shape[2]\n",
        "  # df = np.array([], dtype=int)\n",
        "  for i in range(0,features):\n",
        "    x_gen, y_gen = sm.fit_sample(x[:,:,i],y)\n",
        "    x_gen = x_gen.reshape((x_gen.shape[0],x_gen.shape[1],1))\n",
        "    print(i)\n",
        "    if i == 0:\n",
        "      X_train = x_gen\n",
        "      y_train = y_gen\n",
        "    else:\n",
        "      X_train = np.concatenate([X_train, x_gen],axis=2)\n",
        "  return X_train, y_train\n"
      ],
      "execution_count": 0,
      "outputs": []
    },
    {
      "cell_type": "code",
      "metadata": {
        "id": "NSvyhYUXi1zI",
        "colab_type": "code",
        "colab": {}
      },
      "source": [
        "# # Oversampling training data\n",
        "# X_train, y_train = genData(X_train,y_train)\n",
        "# # Oversampling test data\n",
        "# X_test, y_test = genData(X_test,y_test)"
      ],
      "execution_count": 0,
      "outputs": []
    },
    {
      "cell_type": "code",
      "metadata": {
        "id": "Km2uNysUK3Kc",
        "colab_type": "code",
        "outputId": "3c720cbd-fd81-44c9-c0e8-70f25aeadb23",
        "colab": {
          "base_uri": "https://localhost:8080/",
          "height": 87
        }
      },
      "source": [
        "print(X_train.shape)\n",
        "np.histogram(y_train)"
      ],
      "execution_count": 10,
      "outputs": [
        {
          "output_type": "stream",
          "text": [
            "(23597, 25, 5)\n"
          ],
          "name": "stdout"
        },
        {
          "output_type": "execute_result",
          "data": {
            "text/plain": [
              "(array([21913,     0,     0,     0,     0,     0,     0,     0,     0,\n",
              "         1684]),\n",
              " array([0. , 0.1, 0.2, 0.3, 0.4, 0.5, 0.6, 0.7, 0.8, 0.9, 1. ]))"
            ]
          },
          "metadata": {
            "tags": []
          },
          "execution_count": 10
        }
      ]
    },
    {
      "cell_type": "code",
      "metadata": {
        "id": "yeVAJna0GQqf",
        "colab_type": "code",
        "outputId": "562e667e-91c2-4aba-f089-ba8572619e3b",
        "colab": {
          "base_uri": "https://localhost:8080/",
          "height": 69
        }
      },
      "source": [
        "print(X_test.shape)\n",
        "np.histogram(y_test)"
      ],
      "execution_count": 11,
      "outputs": [
        {
          "output_type": "stream",
          "text": [
            "(5900, 25, 5)\n"
          ],
          "name": "stdout"
        },
        {
          "output_type": "execute_result",
          "data": {
            "text/plain": [
              "(array([5479,    0,    0,    0,    0,    0,    0,    0,    0,  421]),\n",
              " array([0. , 0.1, 0.2, 0.3, 0.4, 0.5, 0.6, 0.7, 0.8, 0.9, 1. ]))"
            ]
          },
          "metadata": {
            "tags": []
          },
          "execution_count": 11
        }
      ]
    },
    {
      "cell_type": "code",
      "metadata": {
        "id": "KnOXtnAHOMnv",
        "colab_type": "code",
        "outputId": "05cbb12a-5a17-4db7-a162-9fffc5ce4685",
        "colab": {
          "base_uri": "https://localhost:8080/",
          "height": 87
        }
      },
      "source": [
        "#Split data\n",
        "X_train, X_validation, y_train, y_validation = train_test_split(X_train, y_train, test_size = 0.2, stratify = y_train, random_state = 25)\n",
        "print(X_train.shape)\n",
        "np.histogram(y_train)"
      ],
      "execution_count": 12,
      "outputs": [
        {
          "output_type": "stream",
          "text": [
            "(18877, 25, 5)\n"
          ],
          "name": "stdout"
        },
        {
          "output_type": "execute_result",
          "data": {
            "text/plain": [
              "(array([17530,     0,     0,     0,     0,     0,     0,     0,     0,\n",
              "         1347]),\n",
              " array([0. , 0.1, 0.2, 0.3, 0.4, 0.5, 0.6, 0.7, 0.8, 0.9, 1. ]))"
            ]
          },
          "metadata": {
            "tags": []
          },
          "execution_count": 12
        }
      ]
    },
    {
      "cell_type": "code",
      "metadata": {
        "id": "dqpZ9nVzutZ7",
        "colab_type": "code",
        "colab": {}
      },
      "source": [
        "checkpoint_name = 'Weights-{epoch:03d}--{val_loss:.5f}.hdf5'     \n",
        "# define callbacks\n",
        "cp = ModelCheckpoint(checkpoint_name, monitor='val_loss', verbose = 0, save_best_only = True, mode ='auto')\n",
        "es = EarlyStopping(monitor='val_loss', patience= 5, verbose=1)\n",
        "callbacks_list = [es]"
      ],
      "execution_count": 0,
      "outputs": []
    },
    {
      "cell_type": "code",
      "metadata": {
        "id": "cKPOGLfaQKdP",
        "colab_type": "code",
        "outputId": "d1771f46-0dba-4bd8-a2ec-759193734031",
        "colab": {
          "base_uri": "https://localhost:8080/",
          "height": 399
        }
      },
      "source": [
        "def get_recurrentModel(in_shape, n_classes):\n",
        "    \"\"\"\n",
        "    input data shape for recurrent network: (n , time, features)\n",
        "    \"\"\"\n",
        "    model = Sequential()\n",
        "    model.add(LSTM(32, return_sequences=True, input_shape=in_shape))\n",
        "    # model.add(Bidirectional(LSTM(32, return_sequences=True), input_shape=in_shape))\n",
        "    model.add(LSTM(32))\n",
        "    model.add(Dropout(0.25))\n",
        "    model.add(Dense(64, activation='relu'))\n",
        "    # model.add(Dropout(0.25))\n",
        "    model.add(Dense(32, activation='relu'))\n",
        "    # model.add(Dropout(0.25))\n",
        "    model.add(Dense(16, activation='relu'))\n",
        "    model.add(Dense(n_classes, activation='sigmoid'))\n",
        "    Adam(learning_rate=0.001)\n",
        "    model.compile(loss='binary_crossentropy', optimizer='adam', metrics=[AUC(), 'accuracy'])\n",
        "    model.summary()\n",
        "    return model\n",
        "\n",
        "#Build model\n",
        "in_shape = (X_train.shape[1], X_train.shape[2])\n",
        "    \n",
        "model = get_recurrentModel(in_shape, 1)\n",
        "\n",
        "#Remove Previous models\n",
        "for filename in os.listdir():\n",
        "    if filename.endswith('.hdf5'):\n",
        "        os.remove(filename)\n",
        "        print(filename)"
      ],
      "execution_count": 14,
      "outputs": [
        {
          "output_type": "stream",
          "text": [
            "Model: \"sequential\"\n",
            "_________________________________________________________________\n",
            "Layer (type)                 Output Shape              Param #   \n",
            "=================================================================\n",
            "lstm (LSTM)                  (None, 25, 32)            4864      \n",
            "_________________________________________________________________\n",
            "lstm_1 (LSTM)                (None, 32)                8320      \n",
            "_________________________________________________________________\n",
            "dropout (Dropout)            (None, 32)                0         \n",
            "_________________________________________________________________\n",
            "dense (Dense)                (None, 64)                2112      \n",
            "_________________________________________________________________\n",
            "dense_1 (Dense)              (None, 32)                2080      \n",
            "_________________________________________________________________\n",
            "dense_2 (Dense)              (None, 16)                528       \n",
            "_________________________________________________________________\n",
            "dense_3 (Dense)              (None, 1)                 17        \n",
            "=================================================================\n",
            "Total params: 17,921\n",
            "Trainable params: 17,921\n",
            "Non-trainable params: 0\n",
            "_________________________________________________________________\n"
          ],
          "name": "stdout"
        }
      ]
    },
    {
      "cell_type": "code",
      "metadata": {
        "id": "HC6cFKDRrEuv",
        "colab_type": "code",
        "outputId": "9fb055b8-2056-40cb-c526-417f90ccd1a9",
        "colab": {
          "base_uri": "https://localhost:8080/",
          "height": 1000
        }
      },
      "source": [
        "# Train model\n",
        "hist = model.fit(X_train, y_train, epochs=50, batch_size=100, validation_data = (X_validation, y_validation), class_weight=class_weights, verbose=1, callbacks=callbacks_list)      \n",
        "\n",
        "#Plot training history\n",
        "def plotHist(history):\n",
        "    plt.plot(history.history['loss'], label='BC (Training data)')\n",
        "    plt.plot(history.history['val_loss'], label='BC (Validation data)')\n",
        "    plt.title('Binary Cross-Entropy(Loss) variation during training')\n",
        "    plt.ylabel('BC value')\n",
        "    plt.xlabel('No. epoch')\n",
        "    plt.legend(loc=\"upper left\")\n",
        "    # plt.savefig(\"BC.png\", bbox_inches='tight', format='png', dpi=300)\n",
        "    #files.download(\"BC.png\")\n",
        "    plt.show()\n",
        "from google.colab import files\n",
        "plotHist(hist)\n",
        "\n",
        "#Plot ROC curve\n",
        "from sklearn.metrics import roc_curve\n",
        "from sklearn.metrics import auc\n",
        "\n",
        "#ROC curve for train\n",
        "y_pred_keras = model.predict(X_train).ravel()\n",
        "fpr_train, tpr_train, thresholds_train = roc_curve(y_train, y_pred_keras)\n",
        "\n",
        "auc_traindata = auc(fpr_train, tpr_train)\n",
        "\n",
        "#ROC curve for test\n",
        "y_pred_keras2 = model.predict(X_test).ravel()\n",
        "fpr_test, tpr_test, thresholds_test = roc_curve(y_test, y_pred_keras2)\n",
        "\n",
        "auc_testdata = auc(fpr_test, tpr_test)\n",
        "\n",
        "#Plot ROC curve\n",
        "plt.figure(1)\n",
        "plt.plot([0, 1], [0, 1], 'k--')\n",
        "plt.plot(fpr_train, tpr_train, label='Train (area = {:.3f})'.format(auc_traindata))\n",
        "plt.plot(fpr_test, tpr_test, label='Test (area = {:.3f})'.format(auc_testdata))\n",
        "plt.xlabel('False positive rate')\n",
        "plt.ylabel('True positive rate')\n",
        "plt.title('ROC curve')\n",
        "plt.legend(loc='best')\n",
        "plt.savefig(\"ROC.png\", bbox_inches='tight', format='png', dpi=300)\n",
        "plt.show()\n",
        "# Zoom in view of the upper left corner.\n",
        "plt.figure(2)\n",
        "plt.xlim(0, 0.2)\n",
        "plt.ylim(0.8, 1)\n",
        "plt.plot([0, 1], [0, 1], 'k--')\n",
        "plt.plot(fpr_train, tpr_train, label='Train (area = {:.3f})'.format(auc_traindata))\n",
        "plt.plot(fpr_test, tpr_test, label='Test (area = {:.3f})'.format(auc_testdata))\n",
        "plt.xlabel('False positive rate')\n",
        "plt.ylabel('True positive rate')\n",
        "plt.title('ROC curve (zoomed in at top left)')\n",
        "plt.legend(loc='best')\n",
        "plt.show()\n",
        "\n",
        "# Calculate confusion matrix\n",
        "predictions = model.predict(X_test)\n",
        "pred = model.predict(X_test)\n",
        "predictions[predictions>0.5] = 1\n",
        "predictions[predictions<0.5] = 0\n",
        "predictions.astype(int)\n",
        "from sklearn.metrics import accuracy_score\n",
        "from sklearn.metrics import precision_score\n",
        "from sklearn.metrics import recall_score\n",
        "from sklearn.metrics import f1_score\n",
        "from sklearn.metrics import cohen_kappa_score\n",
        "from sklearn.metrics import roc_auc_score\n",
        "from sklearn.metrics import confusion_matrix\n",
        "\n",
        "# accuracy: (tp + tn) / (p + n)\n",
        "accuracy = accuracy_score(y_test, predictions)\n",
        "print('Accuracy: %f' % accuracy)\n",
        "# precision tp / (tp + fp)\n",
        "precision = precision_score(y_test, predictions)\n",
        "print('Precision: %f' % precision)\n",
        "# recall: tp / (tp + fn)\n",
        "recall = recall_score(y_test, predictions)\n",
        "print('Recall: %f' % recall)\n",
        "# f1: 2 tp / (2 tp + fp + fn)\n",
        "f1 = f1_score(y_test, predictions)\n",
        "print('F1 score: %f' % f1)\n",
        " \n",
        "# kappa\n",
        "kappa = cohen_kappa_score(y_test, predictions)\n",
        "print('Cohens kappa: %f' % kappa)\n",
        "# ROC AUC\n",
        "auc = roc_auc_score(y_test, pred)\n",
        "print('ROC AUC: %f' % auc)\n",
        "# confusion matrix\n",
        "matrix = confusion_matrix(y_test, predictions)\n",
        "print(matrix)\n",
        "\n"
      ],
      "execution_count": 15,
      "outputs": [
        {
          "output_type": "stream",
          "text": [
            "Epoch 1/50\n",
            "189/189 [==============================] - 3s 15ms/step - loss: 0.2790 - auc: 0.5664 - accuracy: 0.9228 - val_loss: 0.2415 - val_auc: 0.6493 - val_accuracy: 0.9286\n",
            "Epoch 2/50\n",
            "189/189 [==============================] - 2s 11ms/step - loss: 0.2486 - auc: 0.6043 - accuracy: 0.9286 - val_loss: 0.2390 - val_auc: 0.6498 - val_accuracy: 0.9286\n",
            "Epoch 3/50\n",
            "189/189 [==============================] - 2s 10ms/step - loss: 0.2476 - auc: 0.6139 - accuracy: 0.9286 - val_loss: 0.2394 - val_auc: 0.6679 - val_accuracy: 0.9286\n",
            "Epoch 4/50\n",
            "189/189 [==============================] - 2s 10ms/step - loss: 0.2476 - auc: 0.6148 - accuracy: 0.9286 - val_loss: 0.2411 - val_auc: 0.6541 - val_accuracy: 0.9286\n",
            "Epoch 5/50\n",
            "189/189 [==============================] - 2s 10ms/step - loss: 0.2466 - auc: 0.6191 - accuracy: 0.9286 - val_loss: 0.2396 - val_auc: 0.6583 - val_accuracy: 0.9286\n",
            "Epoch 6/50\n",
            "189/189 [==============================] - 2s 11ms/step - loss: 0.2461 - auc: 0.6236 - accuracy: 0.9286 - val_loss: 0.2517 - val_auc: 0.6718 - val_accuracy: 0.9286\n",
            "Epoch 7/50\n",
            "189/189 [==============================] - 2s 10ms/step - loss: 0.2472 - auc: 0.6089 - accuracy: 0.9286 - val_loss: 0.2381 - val_auc: 0.6810 - val_accuracy: 0.9286\n",
            "Epoch 8/50\n",
            "189/189 [==============================] - 2s 10ms/step - loss: 0.2446 - auc: 0.6352 - accuracy: 0.9285 - val_loss: 0.2470 - val_auc: 0.6767 - val_accuracy: 0.9280\n",
            "Epoch 9/50\n",
            "189/189 [==============================] - 2s 10ms/step - loss: 0.2449 - auc: 0.6300 - accuracy: 0.9287 - val_loss: 0.2376 - val_auc: 0.6908 - val_accuracy: 0.9286\n",
            "Epoch 10/50\n",
            "189/189 [==============================] - 2s 10ms/step - loss: 0.2453 - auc: 0.6276 - accuracy: 0.9287 - val_loss: 0.2389 - val_auc: 0.6750 - val_accuracy: 0.9286\n",
            "Epoch 11/50\n",
            "189/189 [==============================] - 2s 10ms/step - loss: 0.2450 - auc: 0.6258 - accuracy: 0.9287 - val_loss: 0.2384 - val_auc: 0.6928 - val_accuracy: 0.9316\n",
            "Epoch 12/50\n",
            "189/189 [==============================] - 2s 10ms/step - loss: 0.2444 - auc: 0.6396 - accuracy: 0.9285 - val_loss: 0.2369 - val_auc: 0.6910 - val_accuracy: 0.9288\n",
            "Epoch 13/50\n",
            "189/189 [==============================] - 2s 10ms/step - loss: 0.2433 - auc: 0.6373 - accuracy: 0.9290 - val_loss: 0.2404 - val_auc: 0.7010 - val_accuracy: 0.9294\n",
            "Epoch 14/50\n",
            "189/189 [==============================] - 2s 10ms/step - loss: 0.2431 - auc: 0.6429 - accuracy: 0.9287 - val_loss: 0.2368 - val_auc: 0.6963 - val_accuracy: 0.9303\n",
            "Epoch 15/50\n",
            "189/189 [==============================] - 2s 11ms/step - loss: 0.2429 - auc: 0.6509 - accuracy: 0.9287 - val_loss: 0.2355 - val_auc: 0.6952 - val_accuracy: 0.9309\n",
            "Epoch 16/50\n",
            "189/189 [==============================] - 2s 10ms/step - loss: 0.2424 - auc: 0.6464 - accuracy: 0.9290 - val_loss: 0.2415 - val_auc: 0.6810 - val_accuracy: 0.9305\n",
            "Epoch 17/50\n",
            "189/189 [==============================] - 2s 11ms/step - loss: 0.2430 - auc: 0.6503 - accuracy: 0.9295 - val_loss: 0.2391 - val_auc: 0.6921 - val_accuracy: 0.9305\n",
            "Epoch 18/50\n",
            "189/189 [==============================] - 2s 11ms/step - loss: 0.2429 - auc: 0.6471 - accuracy: 0.9289 - val_loss: 0.2366 - val_auc: 0.6975 - val_accuracy: 0.9303\n",
            "Epoch 19/50\n",
            "189/189 [==============================] - 2s 10ms/step - loss: 0.2419 - auc: 0.6513 - accuracy: 0.9294 - val_loss: 0.2390 - val_auc: 0.6971 - val_accuracy: 0.9309\n",
            "Epoch 20/50\n",
            "189/189 [==============================] - 2s 10ms/step - loss: 0.2416 - auc: 0.6488 - accuracy: 0.9294 - val_loss: 0.2354 - val_auc: 0.7017 - val_accuracy: 0.9307\n",
            "Epoch 21/50\n",
            "189/189 [==============================] - 2s 11ms/step - loss: 0.2423 - auc: 0.6505 - accuracy: 0.9290 - val_loss: 0.2367 - val_auc: 0.6922 - val_accuracy: 0.9297\n",
            "Epoch 22/50\n",
            "189/189 [==============================] - 2s 10ms/step - loss: 0.2426 - auc: 0.6503 - accuracy: 0.9296 - val_loss: 0.2372 - val_auc: 0.6963 - val_accuracy: 0.9301\n",
            "Epoch 23/50\n",
            "189/189 [==============================] - 2s 11ms/step - loss: 0.2422 - auc: 0.6545 - accuracy: 0.9294 - val_loss: 0.2367 - val_auc: 0.7027 - val_accuracy: 0.9309\n",
            "Epoch 24/50\n",
            "189/189 [==============================] - 2s 11ms/step - loss: 0.2413 - auc: 0.6599 - accuracy: 0.9295 - val_loss: 0.2354 - val_auc: 0.7064 - val_accuracy: 0.9303\n",
            "Epoch 25/50\n",
            "189/189 [==============================] - 2s 10ms/step - loss: 0.2407 - auc: 0.6652 - accuracy: 0.9290 - val_loss: 0.2339 - val_auc: 0.7142 - val_accuracy: 0.9301\n",
            "Epoch 26/50\n",
            "189/189 [==============================] - 2s 11ms/step - loss: 0.2409 - auc: 0.6649 - accuracy: 0.9294 - val_loss: 0.2369 - val_auc: 0.6913 - val_accuracy: 0.9297\n",
            "Epoch 27/50\n",
            "189/189 [==============================] - 2s 10ms/step - loss: 0.2417 - auc: 0.6634 - accuracy: 0.9295 - val_loss: 0.2337 - val_auc: 0.7147 - val_accuracy: 0.9301\n",
            "Epoch 28/50\n",
            "189/189 [==============================] - 2s 10ms/step - loss: 0.2395 - auc: 0.6732 - accuracy: 0.9292 - val_loss: 0.2337 - val_auc: 0.7083 - val_accuracy: 0.9307\n",
            "Epoch 29/50\n",
            "189/189 [==============================] - 2s 10ms/step - loss: 0.2403 - auc: 0.6689 - accuracy: 0.9297 - val_loss: 0.2371 - val_auc: 0.7156 - val_accuracy: 0.9307\n",
            "Epoch 30/50\n",
            "189/189 [==============================] - 2s 11ms/step - loss: 0.2410 - auc: 0.6605 - accuracy: 0.9298 - val_loss: 0.2379 - val_auc: 0.7139 - val_accuracy: 0.9278\n",
            "Epoch 31/50\n",
            "189/189 [==============================] - 2s 11ms/step - loss: 0.2391 - auc: 0.6740 - accuracy: 0.9294 - val_loss: 0.2355 - val_auc: 0.7053 - val_accuracy: 0.9294\n",
            "Epoch 32/50\n",
            "189/189 [==============================] - 2s 11ms/step - loss: 0.2401 - auc: 0.6697 - accuracy: 0.9297 - val_loss: 0.2342 - val_auc: 0.7102 - val_accuracy: 0.9299\n",
            "Epoch 33/50\n",
            "189/189 [==============================] - 2s 11ms/step - loss: 0.2402 - auc: 0.6736 - accuracy: 0.9288 - val_loss: 0.2361 - val_auc: 0.7195 - val_accuracy: 0.9297\n",
            "Epoch 00033: early stopping\n"
          ],
          "name": "stdout"
        },
        {
          "output_type": "display_data",
          "data": {
            "image/png": "[encoded data removed]",
            "text/plain": [
              "<Figure size 432x288 with 1 Axes>"
            ]
          },
          "metadata": {
            "tags": [],
            "needs_background": "light"
          }
        },
        {
          "output_type": "display_data",
          "data": {
            "image/png": "[encoded data removed]",
            "text/plain": [
              "<Figure size 432x288 with 1 Axes>"
            ]
          },
          "metadata": {
            "tags": [],
            "needs_background": "light"
          }
        },
        {
          "output_type": "display_data",
          "data": {
            "image/png": "[encoded data removed]",
            "text/plain": [
              "<Figure size 432x288 with 1 Axes>"
            ]
          },
          "metadata": {
            "tags": [],
            "needs_background": "light"
          }
        },
        {
          "output_type": "stream",
          "text": [
            "Accuracy: 0.929831\n",
            "Precision: 0.769231\n",
            "Recall: 0.023753\n",
            "F1 score: 0.046083\n",
            "Cohens kappa: 0.041988\n",
            "ROC AUC: 0.707866\n",
            "[[5476    3]\n",
            " [ 411   10]]\n"
          ],
          "name": "stdout"
        }
      ]
    },
    {
      "cell_type": "markdown",
      "metadata": {
        "id": "6t-i42V7x1jK",
        "colab_type": "text"
      },
      "source": [
        "Train the model several times to get a good understanding of the performance"
      ]
    },
    {
      "cell_type": "code",
      "metadata": {
        "id": "HiSkaSPoU8UV",
        "colab_type": "code",
        "outputId": "3866be3c-60a0-4af8-f0f4-0204d1bdafcb",
        "colab": {
          "base_uri": "https://localhost:8080/",
          "height": 627
        }
      },
      "source": [
        "  # fit and evaluate a model\n",
        "def evaluate_model(X_train, y_train, X_test, y_test, n_batch):\n",
        "\t# fit network\n",
        "\tmodel.fit(X_train, y_train, epochs=50, batch_size=n_batch, validation_data = (X_validation, y_validation),class_weight=class_weights, verbose=0, callbacks=callbacks_list)\n",
        "\t# evaluate model\n",
        "\t_, AUC_ROC, Acc = model.evaluate(X_test, y_test)\n",
        "\treturn AUC_ROC, Acc\n",
        "\n",
        "# summarize scores\n",
        "def summarize_results(scores,metric_type):\n",
        "\tprint(scores)\n",
        "\tm, s = np.mean(scores), np.std(scores)\n",
        "\tprint(metric_type+': %.3f%% (+/-%.3f)' % (m, s))\n",
        "\n",
        "repeats = 10\n",
        "# repeat experiment\n",
        "scores = list()\n",
        "accuracies = list()\n",
        "n_batch = [10, 50, 100, 500, 1000, 5000] \n",
        "# for r in range(len(n_batch)):\n",
        "# \tscore, acc = evaluate_model(X_train, y_train, X_test, y_test, n_batch[r])\n",
        "\t# print(n_batch[r])\n",
        "for r in range(repeats):\n",
        "\tscore, acc = evaluate_model(X_train, y_train, X_test, y_test, 100)\n",
        "\tscore = score * 100.0\n",
        "\tacc = acc*100.0\n",
        "\tprint('>#%d: %.3f' % (r+1, score))\n",
        "\tscores.append(score)\n",
        "\taccuracies.append(acc)\n",
        "\t# summarize results\n",
        "summarize_results(scores,'AUC')\n",
        "summarize_results(accuracies,'Accuracy')"
      ],
      "execution_count": 16,
      "outputs": [
        {
          "output_type": "stream",
          "text": [
            "Epoch 00017: early stopping\n",
            "185/185 [==============================] - 1s 6ms/step - loss: 0.5756 - auc: 0.6831 - accuracy: 0.7880\n",
            ">#1: 68.315\n",
            "Epoch 00017: early stopping\n",
            "185/185 [==============================] - 1s 5ms/step - loss: 0.6309 - auc: 0.7312 - accuracy: 0.6402\n",
            ">#2: 73.121\n",
            "Epoch 00008: early stopping\n",
            "185/185 [==============================] - 1s 6ms/step - loss: 0.6957 - auc: 0.7218 - accuracy: 0.6214\n",
            ">#3: 72.182\n",
            "Epoch 00008: early stopping\n",
            "185/185 [==============================] - 1s 6ms/step - loss: 0.6396 - auc: 0.7265 - accuracy: 0.6815\n",
            ">#4: 72.653\n",
            "Epoch 00008: early stopping\n",
            "185/185 [==============================] - 1s 5ms/step - loss: 0.6239 - auc: 0.7259 - accuracy: 0.6653\n",
            ">#5: 72.593\n",
            "Epoch 00017: early stopping\n",
            "185/185 [==============================] - 1s 5ms/step - loss: 0.5892 - auc: 0.7456 - accuracy: 0.7124\n",
            ">#6: 74.561\n",
            "Epoch 00008: early stopping\n",
            "185/185 [==============================] - 1s 6ms/step - loss: 0.5956 - auc: 0.7395 - accuracy: 0.6954\n",
            ">#7: 73.953\n",
            "Epoch 00008: early stopping\n",
            "185/185 [==============================] - 1s 5ms/step - loss: 0.6257 - auc: 0.7399 - accuracy: 0.6447\n",
            ">#8: 73.995\n",
            "Epoch 00017: early stopping\n",
            "185/185 [==============================] - 1s 5ms/step - loss: 0.6356 - auc: 0.7440 - accuracy: 0.6215\n",
            ">#9: 74.403\n",
            "Epoch 00008: early stopping\n",
            "185/185 [==============================] - 1s 5ms/step - loss: 0.6946 - auc: 0.7275 - accuracy: 0.5395\n",
            ">#10: 72.749\n",
            "[68.3147668838501, 73.12053442001343, 72.18173146247864, 72.65301942825317, 72.5933313369751, 74.56123232841492, 73.95302057266235, 73.99487495422363, 74.40295815467834, 72.74906635284424]\n",
            "AUC: 72.852% (+/-1.705)\n",
            "[78.79660725593567, 64.01695013046265, 62.135595083236694, 68.15254092216492, 66.52542352676392, 71.2372899055481, 69.54237222671509, 64.47457671165466, 62.15254068374634, 53.949153423309326]\n",
            "Accuracy: 66.098% (+/-6.243)\n"
          ],
          "name": "stdout"
        }
      ]
    },
    {
      "cell_type": "code",
      "metadata": {
        "id": "4qJBMugn8kPd",
        "colab_type": "code",
        "colab": {}
      },
      "source": [
        "# model.save_weights(\"/content/drive/My Drive/\")"
      ],
      "execution_count": 0,
      "outputs": []
    }
  ]
}