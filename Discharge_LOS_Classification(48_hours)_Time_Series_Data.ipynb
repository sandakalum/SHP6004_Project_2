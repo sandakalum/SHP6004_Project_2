{
  "nbformat": 4,
  "nbformat_minor": 0,
  "metadata": {
    "colab": {
      "name": "Discharge LOS Classification(48 hours) - Time Series Data.ipynb",
      "provenance": [],
      "collapsed_sections": [],
      "authorship_tag": "ABX9TyOxVpynjAJYu2PL6VSa0l7M",
      "include_colab_link": true
    },
    "kernelspec": {
      "name": "python3",
      "display_name": "Python 3"
    },
    "accelerator": "GPU"
  },
  "cells": [
    {
      "cell_type": "markdown",
      "metadata": {
        "id": "view-in-github",
        "colab_type": "text"
      },
      "source": [
        "<a href=\"https://colab.research.google.com/github/sandakalum/SPH6004_Project_2/blob/master/Discharge_LOS_Classification(48_hours)_Time_Series_Data.ipynb\" target=\"_parent\"><img src=\"https://colab.research.google.com/assets/colab-badge.svg\" alt=\"Open In Colab\"/></a>"
      ]
    },
    {
      "cell_type": "code",
      "metadata": {
        "id": "nGOX7-kACT2B",
        "colab_type": "code",
        "outputId": "7f8d67df-f50f-4b8a-b41f-89dc5ae4e51b",
        "colab": {
          "base_uri": "https://localhost:8080/",
          "height": 89
        }
      },
      "source": [
        "import tensorflow as tf\n",
        "from tensorflow.keras.callbacks import ModelCheckpoint, EarlyStopping\n",
        "from tensorflow.keras import Sequential\n",
        "from tensorflow.keras.layers import Dense, Activation, Flatten, Dropout, LSTM, Conv1D, MaxPool1D, TimeDistributed, Bidirectional,MaxPooling1D\n",
        "from sklearn.model_selection import train_test_split\n",
        "from sklearn.ensemble import RandomForestRegressor\n",
        "from sklearn.metrics import mean_absolute_error \n",
        "from matplotlib import pyplot as plt\n",
        "import seaborn as sb\n",
        "import matplotlib.pyplot as plt\n",
        "import pandas as pd\n",
        "import numpy as np\n",
        "import json\n",
        "from pathlib import Path\n",
        "import os\n",
        "import warnings \n",
        "warnings.filterwarnings('ignore')\n",
        "warnings.filterwarnings('ignore', category=DeprecationWarning)\n",
        "import random as rn\n",
        "\n",
        "#added\n",
        "from keras.wrappers.scikit_learn import KerasClassifier\n",
        "from sklearn.model_selection import GridSearchCV\n",
        "#from keras.optimizers import adam\n",
        "from tensorflow.keras.optimizers import Adam, SGD\n",
        "from tensorflow.keras.layers import LeakyReLU\n",
        "from tensorflow.keras.losses import MeanSquaredLogarithmicError\n",
        "from tensorflow.keras.layers import BatchNormalization\n",
        "from tensorflow.keras.metrics import AUC\n",
        "\n",
        "#For ROC calculation\n",
        "from sklearn.metrics import roc_curve\n",
        "from sklearn.metrics import auc\n",
        "\n",
        "#For reproducable results\n",
        "tf.random.set_seed(1234)\n",
        "os.environ['PYTHONHASHSEED'] = '0'\n",
        "np.random.seed(42)\n",
        "rn.seed(12345)\n"
      ],
      "execution_count": 1,
      "outputs": [
        {
          "output_type": "stream",
          "text": [
            "/usr/local/lib/python3.6/dist-packages/statsmodels/tools/_testing.py:19: FutureWarning: pandas.util.testing is deprecated. Use the functions in the public API at pandas.testing instead.\n",
            "  import pandas.util.testing as tm\n",
            "Using TensorFlow backend.\n"
          ],
          "name": "stderr"
        }
      ]
    },
    {
      "cell_type": "code",
      "metadata": {
        "id": "0LrnqBUswbXa",
        "colab_type": "code",
        "outputId": "c8bd7b68-d0f2-434a-ab77-e7ac9f8ebcc7",
        "colab": {
          "base_uri": "https://localhost:8080/",
          "height": 124
        }
      },
      "source": [
        "#Mount Google Drive to read data\n",
        "from google.colab import drive\n",
        "drive.mount('/content/drive')"
      ],
      "execution_count": 2,
      "outputs": [
        {
          "output_type": "stream",
          "text": [
            "Go to this URL in a browser: https://accounts.google.com/o/oauth2/auth?client_id=947318989803-6bn6qk8qdgf4n4g3pfee6491hc0brc4i.apps.googleusercontent.com&redirect_uri=urn%3aietf%3awg%3aoauth%3a2.0%3aoob&response_type=code&scope=email%20https%3a%2f%2fwww.googleapis.com%2fauth%2fdocs.test%20https%3a%2f%2fwww.googleapis.com%2fauth%2fdrive%20https%3a%2f%2fwww.googleapis.com%2fauth%2fdrive.photos.readonly%20https%3a%2f%2fwww.googleapis.com%2fauth%2fpeopleapi.readonly\n",
            "\n",
            "Enter your authorization code:\n",
            "··········\n",
            "Mounted at /content/drive\n"
          ],
          "name": "stdout"
        }
      ]
    },
    {
      "cell_type": "code",
      "metadata": {
        "id": "uFbKgp8fZkfl",
        "colab_type": "code",
        "outputId": "63876c3c-9ea4-45da-da0d-8345803e3025",
        "colab": {
          "base_uri": "https://localhost:8080/",
          "height": 104
        }
      },
      "source": [
        "# x = pd.read_csv(\"/content/drive/My Drive/Data/x_AllData.csv\")    \n",
        "# y = pd.read_csv(\"/content/drive/My Drive/Data/y_AllData.csv\")  \n",
        "x_in = pd.read_csv(\"/content/drive/My Drive/Data/x_AllData_NOzero.csv\")    \n",
        "y_in = pd.read_csv(\"/content/drive/My Drive/Data/y_AllData_NOzero.csv\")  \n",
        "\n",
        "#Drop people with LOS < 24 (1 day)\n",
        "idx = y_in[y_in['LOS_ICU'] <= 24].index\n",
        "x_in = x_in.drop(idx)\n",
        "y_in = y_in.drop(idx)\n",
        "\n",
        "#Drop people with LOS > 24*30 (30 day)\n",
        "idx = y_in[y_in['LOS_ICU'] >= 24*30].index\n",
        "x_in = x_in.drop(idx)\n",
        "y_in = y_in.drop(idx)\n",
        "\n",
        "x_in = x_in.drop('Unnamed: 0', axis=1)\n",
        "\n",
        "#Drop people who died\n",
        "idx = y_in[y_in['icustay_expire_flag'] == 1].index\n",
        "x_in = x_in.drop(idx)\n",
        "y_in = y_in.drop(idx)\n",
        "\n",
        "x = x_in\n",
        "y = y_in\n",
        "print(x.shape)\n",
        "print(y.shape)\n",
        "\n",
        "# For graphs\n",
        "idx_1 = (y['LOS_ICU']<=24*2)\n",
        "idx_0 = (y['LOS_ICU']>24*2)\n",
        "\n",
        "# Discharge within next 24 hours\n",
        "y = y['LOS_ICU']\n",
        "y[y<=24*2] = 1\n",
        "y[y>24*2] = 0\n",
        "\n",
        "np.histogram(y)"
      ],
      "execution_count": 3,
      "outputs": [
        {
          "output_type": "stream",
          "text": [
            "(27392, 125)\n",
            "(27392, 4)\n"
          ],
          "name": "stdout"
        },
        {
          "output_type": "execute_result",
          "data": {
            "text/plain": [
              "(array([16808,     0,     0,     0,     0,     0,     0,     0,     0,\n",
              "        10584]),\n",
              " array([0. , 0.1, 0.2, 0.3, 0.4, 0.5, 0.6, 0.7, 0.8, 0.9, 1. ]))"
            ]
          },
          "metadata": {
            "tags": []
          },
          "execution_count": 3
        }
      ]
    },
    {
      "cell_type": "code",
      "metadata": {
        "id": "8oad19F27onE",
        "colab_type": "code",
        "colab": {}
      },
      "source": [
        "def reshape_features(x,features,timestamps):\n",
        "  x  = x.to_numpy()\n",
        "  patients = x.shape[0]\n",
        "  timestamps = int(x.shape[1]/features)\n",
        "  df = np.empty([patients, timestamps, features], dtype=float)\n",
        "  for i in range(0,features):\n",
        "    df[:,:,i] = x[:,(i*25):(i*25+timestamps)]\n",
        "  return df\n",
        "\n",
        "#Reshape x into 3D tensor\n",
        "\n",
        "features = 5\n",
        "timestamps = 25\n",
        "x = reshape_features(x,features,timestamps)"
      ],
      "execution_count": 0,
      "outputs": []
    },
    {
      "cell_type": "markdown",
      "metadata": {
        "id": "LFURl9TDkPZW",
        "colab_type": "text"
      },
      "source": [
        "Plot mean variation for each feature for different mortality and LOS conditions"
      ]
    },
    {
      "cell_type": "code",
      "metadata": {
        "id": "245HnatikOqf",
        "colab_type": "code",
        "colab": {}
      },
      "source": [
        "#   patient_0 = np.mean(x[idx_0,:,:], axis = 0)\n",
        "#   patient_1 = np.mean(x[idx_1,:,:], axis = 0)\n",
        "#   vital_names = ['DiasBP(mmHg)','Heart Rate(BPM)','MeanBP(mmHg)','SpO2(%)','SysBP(mmHg)']\n",
        "#   i = 4\n",
        "#   from google.colab import files\n",
        "# # for i in [0,1,2,3,4]:\n",
        "#   plt.plot(patient_0[:,i], label='LOS > 48 hours')\n",
        "#   plt.plot(patient_1[:,i], label='LOS ≤ 48 hours')\n",
        "#   plt.title('Variation of '+ vital_names[i])\n",
        "#   plt.xlabel('Hour in ICU')\n",
        "#   plt.ylabel(vital_names[i])\n",
        "#   plt.legend(loc=\"upper right\")\n",
        "#   plt.savefig(vital_names[i] + '.png', bbox_inches='tight', format='png', dpi=300)\n",
        "#   # plt.rcParams.update({'font.size': 20})\n",
        "#   # files.download(vital_names[i] + '.png')\n",
        "#   # plt.show()"
      ],
      "execution_count": 0,
      "outputs": []
    },
    {
      "cell_type": "code",
      "metadata": {
        "id": "6RwgzxQC3w8k",
        "colab_type": "code",
        "outputId": "756d3797-6357-4366-e19f-96e002f8212e",
        "colab": {
          "base_uri": "https://localhost:8080/",
          "height": 35
        }
      },
      "source": [
        "#Split data\n",
        "X_train, X_test, y_train, y_test = train_test_split(x, y, test_size = 0.2, stratify = y, random_state = 25)\n",
        "y_test.shape"
      ],
      "execution_count": 6,
      "outputs": [
        {
          "output_type": "execute_result",
          "data": {
            "text/plain": [
              "(5479,)"
            ]
          },
          "metadata": {
            "tags": []
          },
          "execution_count": 6
        }
      ]
    },
    {
      "cell_type": "code",
      "metadata": {
        "id": "FmYnMi5WBZzs",
        "colab_type": "code",
        "colab": {}
      },
      "source": [
        "# from sklearn.utils import class_weight\n",
        "# # Calculate class weights \n",
        "# class_weights = class_weight.compute_class_weight('balanced', np.unique(y_train), y_train)\n",
        "# class_weights = dict(enumerate(class_weights))"
      ],
      "execution_count": 0,
      "outputs": []
    },
    {
      "cell_type": "code",
      "metadata": {
        "id": "Sk4MKN8gfRrC",
        "colab_type": "code",
        "colab": {}
      },
      "source": [
        "def genData(x,y):\n",
        "  from sklearn.model_selection import train_test_split\n",
        "  # Oversampling\n",
        "  from imblearn.over_sampling import SMOTE\n",
        "  sm = SMOTE(random_state=27, ratio=1.0)\n",
        "  features = x.shape[2]\n",
        "  # df = np.array([], dtype=int)\n",
        "  for i in range(0,features):\n",
        "    x_gen, y_gen = sm.fit_sample(x[:,:,i],y)\n",
        "    x_gen = x_gen.reshape((x_gen.shape[0],x_gen.shape[1],1))\n",
        "    print(i)\n",
        "    if i == 0:\n",
        "      X_train = x_gen\n",
        "      y_train = y_gen\n",
        "    else:\n",
        "      X_train = np.concatenate([X_train, x_gen],axis=2)\n",
        "  return X_train, y_train\n"
      ],
      "execution_count": 0,
      "outputs": []
    },
    {
      "cell_type": "code",
      "metadata": {
        "id": "NSvyhYUXi1zI",
        "colab_type": "code",
        "outputId": "aa812de7-3263-4e8f-8c03-6707d2b3510f",
        "colab": {
          "base_uri": "https://localhost:8080/",
          "height": 104
        }
      },
      "source": [
        "# # Oversampling training data\n",
        "X_train, y_train = genData(X_train,y_train)\n",
        "# # Oversampling test data\n",
        "# X_test, y_test = genData(X_test,y_test)"
      ],
      "execution_count": 9,
      "outputs": [
        {
          "output_type": "stream",
          "text": [
            "0\n",
            "1\n",
            "2\n",
            "3\n",
            "4\n"
          ],
          "name": "stdout"
        }
      ]
    },
    {
      "cell_type": "code",
      "metadata": {
        "id": "Km2uNysUK3Kc",
        "colab_type": "code",
        "outputId": "7c295daf-5608-4673-87aa-4c8aad21e05e",
        "colab": {
          "base_uri": "https://localhost:8080/",
          "height": 87
        }
      },
      "source": [
        "print(X_train.shape)\n",
        "np.histogram(y_train)"
      ],
      "execution_count": 10,
      "outputs": [
        {
          "output_type": "stream",
          "text": [
            "(26892, 25, 5)\n"
          ],
          "name": "stdout"
        },
        {
          "output_type": "execute_result",
          "data": {
            "text/plain": [
              "(array([13446,     0,     0,     0,     0,     0,     0,     0,     0,\n",
              "        13446]),\n",
              " array([0. , 0.1, 0.2, 0.3, 0.4, 0.5, 0.6, 0.7, 0.8, 0.9, 1. ]))"
            ]
          },
          "metadata": {
            "tags": []
          },
          "execution_count": 10
        }
      ]
    },
    {
      "cell_type": "code",
      "metadata": {
        "id": "yeVAJna0GQqf",
        "colab_type": "code",
        "outputId": "4e7bc98d-2e1e-4ec1-b944-f09df64b7ee3",
        "colab": {
          "base_uri": "https://localhost:8080/",
          "height": 69
        }
      },
      "source": [
        "print(X_test.shape)\n",
        "np.histogram(y_test)"
      ],
      "execution_count": 11,
      "outputs": [
        {
          "output_type": "stream",
          "text": [
            "(5479, 25, 5)\n"
          ],
          "name": "stdout"
        },
        {
          "output_type": "execute_result",
          "data": {
            "text/plain": [
              "(array([3362,    0,    0,    0,    0,    0,    0,    0,    0, 2117]),\n",
              " array([0. , 0.1, 0.2, 0.3, 0.4, 0.5, 0.6, 0.7, 0.8, 0.9, 1. ]))"
            ]
          },
          "metadata": {
            "tags": []
          },
          "execution_count": 11
        }
      ]
    },
    {
      "cell_type": "code",
      "metadata": {
        "id": "KnOXtnAHOMnv",
        "colab_type": "code",
        "outputId": "3b94de0e-78cf-4d41-bafd-70dd95414b97",
        "colab": {
          "base_uri": "https://localhost:8080/",
          "height": 87
        }
      },
      "source": [
        "#Split data\n",
        "X_train, X_validation, y_train, y_validation = train_test_split(X_train, y_train, test_size = 0.2, stratify = y_train, random_state = 25)\n",
        "print(X_train.shape)\n",
        "np.histogram(y_train)"
      ],
      "execution_count": 12,
      "outputs": [
        {
          "output_type": "stream",
          "text": [
            "(21513, 25, 5)\n"
          ],
          "name": "stdout"
        },
        {
          "output_type": "execute_result",
          "data": {
            "text/plain": [
              "(array([10756,     0,     0,     0,     0,     0,     0,     0,     0,\n",
              "        10757]),\n",
              " array([0. , 0.1, 0.2, 0.3, 0.4, 0.5, 0.6, 0.7, 0.8, 0.9, 1. ]))"
            ]
          },
          "metadata": {
            "tags": []
          },
          "execution_count": 12
        }
      ]
    },
    {
      "cell_type": "code",
      "metadata": {
        "id": "dqpZ9nVzutZ7",
        "colab_type": "code",
        "colab": {}
      },
      "source": [
        "checkpoint_name = 'Weights-{epoch:03d}--{val_loss:.5f}.hdf5'     \n",
        "# define callbacks\n",
        "cp = ModelCheckpoint(checkpoint_name, monitor='val_loss', verbose = 0, save_best_only = True, mode ='auto')\n",
        "es = EarlyStopping(monitor='val_loss', patience= 5, verbose=1)\n",
        "callbacks_list = [es]"
      ],
      "execution_count": 0,
      "outputs": []
    },
    {
      "cell_type": "code",
      "metadata": {
        "id": "cKPOGLfaQKdP",
        "colab_type": "code",
        "outputId": "48a29254-8b48-4448-df8b-cfbe5c02a03b",
        "colab": {
          "base_uri": "https://localhost:8080/",
          "height": 295
        }
      },
      "source": [
        "def get_recurrentModel(in_shape, n_classes):\n",
        "    \"\"\"\n",
        "    input data shape for recurrent network: (n , time, features)\n",
        "    \"\"\"\n",
        "    model = Sequential()\n",
        "    model.add(LSTM(100, input_shape=in_shape))\n",
        "    model.add(Dropout(0.5))\n",
        "    model.add(Dense(100, activation='relu'))\n",
        "    model.add(Dense(n_classes, activation='sigmoid'))\n",
        "    Adam(learning_rate=0.001)\n",
        "    model.compile(loss='binary_crossentropy', optimizer='adam', metrics=[AUC(), 'accuracy'])\n",
        "    model.summary()\n",
        "    return model\n",
        "\n",
        "#Build model\n",
        "in_shape = (X_train.shape[1], X_train.shape[2])\n",
        "    \n",
        "model = get_recurrentModel(in_shape, 1)\n",
        "\n",
        "#Remove Previous models\n",
        "for filename in os.listdir():\n",
        "    if filename.endswith('.hdf5'):\n",
        "        os.remove(filename)\n",
        "        print(filename)"
      ],
      "execution_count": 14,
      "outputs": [
        {
          "output_type": "stream",
          "text": [
            "Model: \"sequential\"\n",
            "_________________________________________________________________\n",
            "Layer (type)                 Output Shape              Param #   \n",
            "=================================================================\n",
            "lstm (LSTM)                  (None, 100)               42400     \n",
            "_________________________________________________________________\n",
            "dropout (Dropout)            (None, 100)               0         \n",
            "_________________________________________________________________\n",
            "dense (Dense)                (None, 100)               10100     \n",
            "_________________________________________________________________\n",
            "dense_1 (Dense)              (None, 1)                 101       \n",
            "=================================================================\n",
            "Total params: 52,601\n",
            "Trainable params: 52,601\n",
            "Non-trainable params: 0\n",
            "_________________________________________________________________\n"
          ],
          "name": "stdout"
        }
      ]
    },
    {
      "cell_type": "code",
      "metadata": {
        "id": "HC6cFKDRrEuv",
        "colab_type": "code",
        "outputId": "e6b4e28c-870e-4350-e49a-481396f372c5",
        "colab": {
          "base_uri": "https://localhost:8080/",
          "height": 1000
        }
      },
      "source": [
        "# Train model\n",
        "hist = model.fit(X_train, y_train, epochs=50, batch_size=100, validation_data = (X_validation, y_validation), verbose=1, callbacks=callbacks_list)      \n",
        "\n",
        "#Plot training history\n",
        "def plotHist(history):\n",
        "    plt.plot(history.history['loss'], label='BC (Training data)')\n",
        "    plt.plot(history.history['val_loss'], label='BC (Validation data)')\n",
        "    plt.title('Binary Cross-Entropy(Loss) variation during training')\n",
        "    plt.ylabel('BC value')\n",
        "    plt.xlabel('No. epoch')\n",
        "    plt.legend(loc=\"upper left\")\n",
        "    # plt.savefig(\"BC.png\", bbox_inches='tight', format='png', dpi=300)\n",
        "    #files.download(\"BC.png\")\n",
        "    plt.show()\n",
        "from google.colab import files\n",
        "plotHist(hist)\n",
        "\n",
        "#Plot ROC curve\n",
        "from sklearn.metrics import roc_curve\n",
        "from sklearn.metrics import auc\n",
        "\n",
        "#ROC curve for train\n",
        "y_pred_keras = model.predict(X_train).ravel()\n",
        "fpr_train, tpr_train, thresholds_train = roc_curve(y_train, y_pred_keras)\n",
        "\n",
        "auc_traindata = auc(fpr_train, tpr_train)\n",
        "\n",
        "#ROC curve for test\n",
        "y_pred_keras2 = model.predict(X_test).ravel()\n",
        "fpr_test, tpr_test, thresholds_test = roc_curve(y_test, y_pred_keras2)\n",
        "\n",
        "auc_testdata = auc(fpr_test, tpr_test)\n",
        "\n",
        "#Plot ROC curve\n",
        "plt.figure(1)\n",
        "plt.plot([0, 1], [0, 1], 'k--')\n",
        "plt.plot(fpr_train, tpr_train, label='Train (area = {:.3f})'.format(auc_traindata))\n",
        "plt.plot(fpr_test, tpr_test, label='Test (area = {:.3f})'.format(auc_testdata))\n",
        "plt.xlabel('False positive rate')\n",
        "plt.ylabel('True positive rate')\n",
        "plt.title('ROC curve')\n",
        "plt.legend(loc='best')\n",
        "plt.savefig(\"ROC.png\", bbox_inches='tight', format='png', dpi=300)\n",
        "plt.show()\n",
        "# Zoom in view of the upper left corner.\n",
        "plt.figure(2)\n",
        "plt.xlim(0, 0.2)\n",
        "plt.ylim(0.8, 1)\n",
        "plt.plot([0, 1], [0, 1], 'k--')\n",
        "plt.plot(fpr_train, tpr_train, label='Train (area = {:.3f})'.format(auc_traindata))\n",
        "plt.plot(fpr_test, tpr_test, label='Test (area = {:.3f})'.format(auc_testdata))\n",
        "plt.xlabel('False positive rate')\n",
        "plt.ylabel('True positive rate')\n",
        "plt.title('ROC curve (zoomed in at top left)')\n",
        "plt.legend(loc='best')\n",
        "plt.show()\n",
        "\n",
        "# Calculate confusion matrix\n",
        "predictions = model.predict(X_test)\n",
        "pred = model.predict(X_test)\n",
        "predictions[predictions>0.5] = 1\n",
        "predictions[predictions<0.5] = 0\n",
        "predictions.astype(int)\n",
        "from sklearn.metrics import accuracy_score\n",
        "from sklearn.metrics import precision_score\n",
        "from sklearn.metrics import recall_score\n",
        "from sklearn.metrics import f1_score\n",
        "from sklearn.metrics import cohen_kappa_score\n",
        "from sklearn.metrics import roc_auc_score\n",
        "from sklearn.metrics import confusion_matrix\n",
        "\n",
        "# accuracy: (tp + tn) / (p + n)\n",
        "accuracy = accuracy_score(y_test, predictions)\n",
        "print('Accuracy: %f' % accuracy)\n",
        "# precision tp / (tp + fp)\n",
        "precision = precision_score(y_test, predictions)\n",
        "print('Precision: %f' % precision)\n",
        "# recall: tp / (tp + fn)\n",
        "recall = recall_score(y_test, predictions)\n",
        "print('Recall: %f' % recall)\n",
        "# f1: 2 tp / (2 tp + fp + fn)\n",
        "f1 = f1_score(y_test, predictions)\n",
        "print('F1 score: %f' % f1)\n",
        " \n",
        "# kappa\n",
        "kappa = cohen_kappa_score(y_test, predictions)\n",
        "print('Cohens kappa: %f' % kappa)\n",
        "# ROC AUC\n",
        "auc = roc_auc_score(y_test, pred)\n",
        "print('ROC AUC: %f' % auc)\n",
        "# confusion matrix\n",
        "matrix = confusion_matrix(y_test, predictions)\n",
        "print(matrix)\n",
        "\n"
      ],
      "execution_count": 15,
      "outputs": [
        {
          "output_type": "stream",
          "text": [
            "Epoch 1/50\n",
            "216/216 [==============================] - 2s 9ms/step - loss: 0.6884 - auc: 0.5590 - accuracy: 0.5410 - val_loss: 0.6804 - val_auc: 0.6023 - val_accuracy: 0.5611\n",
            "Epoch 2/50\n",
            "216/216 [==============================] - 1s 6ms/step - loss: 0.6857 - auc: 0.5640 - accuracy: 0.5419 - val_loss: 0.6827 - val_auc: 0.6074 - val_accuracy: 0.5375\n",
            "Epoch 3/50\n",
            "216/216 [==============================] - 1s 6ms/step - loss: 0.6834 - auc: 0.5715 - accuracy: 0.5508 - val_loss: 0.6783 - val_auc: 0.6062 - val_accuracy: 0.5709\n",
            "Epoch 4/50\n",
            "216/216 [==============================] - 1s 6ms/step - loss: 0.6808 - auc: 0.5834 - accuracy: 0.5606 - val_loss: 0.6787 - val_auc: 0.6202 - val_accuracy: 0.5895\n",
            "Epoch 5/50\n",
            "216/216 [==============================] - 1s 6ms/step - loss: 0.6789 - auc: 0.5894 - accuracy: 0.5600 - val_loss: 0.6760 - val_auc: 0.6173 - val_accuracy: 0.5798\n",
            "Epoch 6/50\n",
            "216/216 [==============================] - 1s 6ms/step - loss: 0.6787 - auc: 0.5885 - accuracy: 0.5611 - val_loss: 0.6740 - val_auc: 0.6329 - val_accuracy: 0.5951\n",
            "Epoch 7/50\n",
            "216/216 [==============================] - 1s 6ms/step - loss: 0.6774 - auc: 0.5931 - accuracy: 0.5631 - val_loss: 0.6744 - val_auc: 0.6258 - val_accuracy: 0.5852\n",
            "Epoch 8/50\n",
            "216/216 [==============================] - 1s 6ms/step - loss: 0.6770 - auc: 0.5956 - accuracy: 0.5664 - val_loss: 0.6715 - val_auc: 0.6330 - val_accuracy: 0.5802\n",
            "Epoch 9/50\n",
            "216/216 [==============================] - 1s 6ms/step - loss: 0.6749 - auc: 0.6032 - accuracy: 0.5693 - val_loss: 0.6698 - val_auc: 0.6337 - val_accuracy: 0.5956\n",
            "Epoch 10/50\n",
            "216/216 [==============================] - 1s 6ms/step - loss: 0.6740 - auc: 0.6050 - accuracy: 0.5712 - val_loss: 0.6691 - val_auc: 0.6386 - val_accuracy: 0.5988\n",
            "Epoch 11/50\n",
            "216/216 [==============================] - 1s 6ms/step - loss: 0.6722 - auc: 0.6115 - accuracy: 0.5747 - val_loss: 0.6655 - val_auc: 0.6433 - val_accuracy: 0.5906\n",
            "Epoch 12/50\n",
            "216/216 [==============================] - 1s 6ms/step - loss: 0.6716 - auc: 0.6149 - accuracy: 0.5799 - val_loss: 0.6691 - val_auc: 0.6346 - val_accuracy: 0.5817\n",
            "Epoch 13/50\n",
            "216/216 [==============================] - 1s 6ms/step - loss: 0.6702 - auc: 0.6144 - accuracy: 0.5772 - val_loss: 0.6628 - val_auc: 0.6469 - val_accuracy: 0.6010\n",
            "Epoch 14/50\n",
            "216/216 [==============================] - 1s 6ms/step - loss: 0.6681 - auc: 0.6254 - accuracy: 0.5881 - val_loss: 0.6738 - val_auc: 0.6382 - val_accuracy: 0.5808\n",
            "Epoch 15/50\n",
            "216/216 [==============================] - 1s 6ms/step - loss: 0.6683 - auc: 0.6228 - accuracy: 0.5839 - val_loss: 0.6616 - val_auc: 0.6538 - val_accuracy: 0.6033\n",
            "Epoch 16/50\n",
            "216/216 [==============================] - 1s 6ms/step - loss: 0.6653 - auc: 0.6309 - accuracy: 0.5933 - val_loss: 0.6640 - val_auc: 0.6508 - val_accuracy: 0.6033\n",
            "Epoch 17/50\n",
            "216/216 [==============================] - 1s 6ms/step - loss: 0.6655 - auc: 0.6303 - accuracy: 0.5922 - val_loss: 0.6629 - val_auc: 0.6486 - val_accuracy: 0.6010\n",
            "Epoch 18/50\n",
            "216/216 [==============================] - 1s 6ms/step - loss: 0.6643 - auc: 0.6341 - accuracy: 0.5959 - val_loss: 0.6656 - val_auc: 0.6525 - val_accuracy: 0.5858\n",
            "Epoch 19/50\n",
            "216/216 [==============================] - 1s 6ms/step - loss: 0.6636 - auc: 0.6341 - accuracy: 0.5950 - val_loss: 0.6625 - val_auc: 0.6556 - val_accuracy: 0.5994\n",
            "Epoch 20/50\n",
            "216/216 [==============================] - 1s 6ms/step - loss: 0.6622 - auc: 0.6374 - accuracy: 0.5966 - val_loss: 0.6629 - val_auc: 0.6556 - val_accuracy: 0.6038\n",
            "Epoch 00020: early stopping\n"
          ],
          "name": "stdout"
        },
        {
          "output_type": "display_data",
          "data": {
            "image/png": "[encoded data removed]",
            "text/plain": [
              "<Figure size 432x288 with 1 Axes>"
            ]
          },
          "metadata": {
            "tags": [],
            "needs_background": "light"
          }
        },
        {
          "output_type": "display_data",
          "data": {
            "image/png": "[encoded data removed]",
            "text/plain": [
              "<Figure size 432x288 with 1 Axes>"
            ]
          },
          "metadata": {
            "tags": [],
            "needs_background": "light"
          }
        },
        {
          "output_type": "display_data",
          "data": {
            "image/png": "[encoded data removed]",
            "text/plain": [
              "<Figure size 432x288 with 1 Axes>"
            ]
          },
          "metadata": {
            "tags": [],
            "needs_background": "light"
          }
        },
        {
          "output_type": "stream",
          "text": [
            "Accuracy: 0.611973\n",
            "Precision: 0.497955\n",
            "Recall: 0.517714\n",
            "F1 score: 0.507642\n",
            "Cohens kappa: 0.187662\n",
            "ROC AUC: 0.639772\n",
            "[[2257 1105]\n",
            " [1021 1096]]\n"
          ],
          "name": "stdout"
        }
      ]
    },
    {
      "cell_type": "markdown",
      "metadata": {
        "id": "6t-i42V7x1jK",
        "colab_type": "text"
      },
      "source": [
        "Train the model several times to get a good understanding of the performance"
      ]
    },
    {
      "cell_type": "code",
      "metadata": {
        "id": "HiSkaSPoU8UV",
        "colab_type": "code",
        "outputId": "56064a48-c765-4cf4-8a69-ca74b2e49bbe",
        "colab": {
          "base_uri": "https://localhost:8080/",
          "height": 627
        }
      },
      "source": [
        "  # fit and evaluate a model\n",
        "def evaluate_model(X_train, y_train, X_test, y_test, n_batch):\n",
        "\t# fit network\n",
        "\tmodel.fit(X_train, y_train, epochs=50, batch_size=n_batch, validation_data = (X_validation, y_validation), verbose=0, callbacks=callbacks_list)\n",
        "\t# evaluate model\n",
        "\t_, AUC_ROC, Acc = model.evaluate(X_test, y_test)\n",
        "\treturn AUC_ROC, Acc\n",
        "\n",
        "# summarize scores\n",
        "def summarize_results(scores,metric_type):\n",
        "\tprint(scores)\n",
        "\tm, s = np.mean(scores), np.std(scores)\n",
        "\tprint(metric_type+': %.3f%% (+/-%.3f)' % (m, s))\n",
        "\n",
        "repeats = 10\n",
        "# repeat experiment\n",
        "scores = list()\n",
        "accuracies = list()\n",
        "n_batch = [10, 50, 100, 500, 1000, 5000] \n",
        "# for r in range(len(n_batch)):\n",
        "# \tscore, acc = evaluate_model(X_train, y_train, X_test, y_test, n_batch[r])\n",
        "\t# print(n_batch[r])\n",
        "for r in range(repeats):\n",
        "\tscore, acc = evaluate_model(X_train, y_train, X_test, y_test, 100)\n",
        "\tscore = score * 100.0\n",
        "\tacc = acc*100.0\n",
        "\tprint('>#%d: %.3f' % (r+1, score))\n",
        "\tscores.append(score)\n",
        "\taccuracies.append(acc)\n",
        "\t# summarize results\n",
        "summarize_results(scores,'AUC')\n",
        "summarize_results(accuracies,'Accuracy')"
      ],
      "execution_count": 16,
      "outputs": [
        {
          "output_type": "stream",
          "text": [
            "Epoch 00018: early stopping\n",
            "172/172 [==============================] - 1s 3ms/step - loss: 0.6766 - auc: 0.6513 - accuracy: 0.5724\n",
            ">#1: 65.132\n",
            "Epoch 00010: early stopping\n",
            "172/172 [==============================] - 1s 3ms/step - loss: 0.6602 - auc: 0.6532 - accuracy: 0.5945\n",
            ">#2: 65.321\n",
            "Epoch 00008: early stopping\n",
            "172/172 [==============================] - 1s 3ms/step - loss: 0.6606 - auc: 0.6533 - accuracy: 0.6063\n",
            ">#3: 65.329\n",
            "Epoch 00009: early stopping\n",
            "172/172 [==============================] - 1s 3ms/step - loss: 0.6677 - auc: 0.6520 - accuracy: 0.5762\n",
            ">#4: 65.205\n",
            "Epoch 00011: early stopping\n",
            "172/172 [==============================] - 1s 3ms/step - loss: 0.6753 - auc: 0.6495 - accuracy: 0.5725\n",
            ">#5: 64.952\n",
            "Epoch 00010: early stopping\n",
            "172/172 [==============================] - 1s 3ms/step - loss: 0.6754 - auc: 0.6518 - accuracy: 0.5592\n",
            ">#6: 65.176\n",
            "Epoch 00008: early stopping\n",
            "172/172 [==============================] - 1s 3ms/step - loss: 0.6870 - auc: 0.6494 - accuracy: 0.5423\n",
            ">#7: 64.936\n",
            "Epoch 00008: early stopping\n",
            "172/172 [==============================] - 1s 3ms/step - loss: 0.6841 - auc: 0.6472 - accuracy: 0.5375\n",
            ">#8: 64.723\n",
            "Epoch 00008: early stopping\n",
            "172/172 [==============================] - 1s 3ms/step - loss: 0.6874 - auc: 0.6494 - accuracy: 0.5391\n",
            ">#9: 64.941\n",
            "Epoch 00010: early stopping\n",
            "172/172 [==============================] - 1s 3ms/step - loss: 0.6801 - auc: 0.6535 - accuracy: 0.5603\n",
            ">#10: 65.351\n",
            "[65.13248682022095, 65.32074809074402, 65.32872319221497, 65.20493030548096, 64.95243906974792, 65.17605781555176, 64.93558287620544, 64.72314596176147, 64.9409830570221, 65.35122394561768]\n",
            "AUC: 65.107% (+/-0.199)\n",
            "[57.23671913146973, 59.445154666900635, 60.6315016746521, 57.6200008392334, 57.25497603416443, 55.92261552810669, 54.2252242565155, 53.75068187713623, 53.91494631767273, 56.03212118148804]\n",
            "Accuracy: 56.603% (+/-2.190)\n"
          ],
          "name": "stdout"
        }
      ]
    },
    {
      "cell_type": "code",
      "metadata": {
        "id": "4qJBMugn8kPd",
        "colab_type": "code",
        "colab": {}
      },
      "source": [
        "# model.save_weights(\"/content/drive/My Drive/\")"
      ],
      "execution_count": 0,
      "outputs": []
    },
    {
      "cell_type": "code",
      "metadata": {
        "id": "TvyloXfH584w",
        "colab_type": "code",
        "colab": {}
      },
      "source": [
        ""
      ],
      "execution_count": 0,
      "outputs": []
    }
  ]
}