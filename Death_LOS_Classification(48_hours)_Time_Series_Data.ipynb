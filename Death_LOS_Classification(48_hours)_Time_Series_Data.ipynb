{
  "nbformat": 4,
  "nbformat_minor": 0,
  "metadata": {
    "colab": {
      "name": "Death LOS Classification(48 hours) - Time Series Data.ipynb",
      "provenance": [],
      "collapsed_sections": [],
      "authorship_tag": "ABX9TyOiN30X+s4wJI5ITDrdL8Z+",
      "include_colab_link": true
    },
    "kernelspec": {
      "name": "python3",
      "display_name": "Python 3"
    },
    "accelerator": "GPU"
  },
  "cells": [
    {
      "cell_type": "markdown",
      "metadata": {
        "id": "view-in-github",
        "colab_type": "text"
      },
      "source": [
        "<a href=\"https://colab.research.google.com/github/sandakalum/SPH6004_Project_2/blob/master/Death_LOS_Classification(48_hours)_Time_Series_Data.ipynb\" target=\"_parent\"><img src=\"https://colab.research.google.com/assets/colab-badge.svg\" alt=\"Open In Colab\"/></a>"
      ]
    },
    {
      "cell_type": "code",
      "metadata": {
        "id": "nGOX7-kACT2B",
        "colab_type": "code",
        "outputId": "73a87be7-5151-4eca-d8ba-5e7d172278b6",
        "colab": {
          "base_uri": "https://localhost:8080/",
          "height": 89
        }
      },
      "source": [
        "import tensorflow as tf\n",
        "from tensorflow.keras.callbacks import ModelCheckpoint, EarlyStopping\n",
        "from tensorflow.keras import Sequential\n",
        "from tensorflow.keras.layers import Dense, Activation, Flatten, Dropout, LSTM, Conv1D, MaxPool1D, TimeDistributed, Bidirectional,MaxPooling1D\n",
        "from sklearn.model_selection import train_test_split\n",
        "from sklearn.ensemble import RandomForestRegressor\n",
        "from sklearn.metrics import mean_absolute_error \n",
        "from matplotlib import pyplot as plt\n",
        "import seaborn as sb\n",
        "import matplotlib.pyplot as plt\n",
        "import pandas as pd\n",
        "import numpy as np\n",
        "import json\n",
        "from pathlib import Path\n",
        "import os\n",
        "import warnings \n",
        "warnings.filterwarnings('ignore')\n",
        "warnings.filterwarnings('ignore', category=DeprecationWarning)\n",
        "import random as rn\n",
        "\n",
        "#added\n",
        "from keras.wrappers.scikit_learn import KerasClassifier\n",
        "from sklearn.model_selection import GridSearchCV\n",
        "#from keras.optimizers import adam\n",
        "from tensorflow.keras.optimizers import Adam, SGD\n",
        "from tensorflow.keras.layers import LeakyReLU\n",
        "from tensorflow.keras.losses import MeanSquaredLogarithmicError\n",
        "from tensorflow.keras.layers import BatchNormalization\n",
        "from tensorflow.keras.metrics import AUC\n",
        "\n",
        "#For ROC calculation\n",
        "from sklearn.metrics import roc_curve\n",
        "from sklearn.metrics import auc\n",
        "\n",
        "#For reproducable results\n",
        "tf.random.set_seed(1234)\n",
        "os.environ['PYTHONHASHSEED'] = '0'\n",
        "np.random.seed(42)\n",
        "rn.seed(12345)\n"
      ],
      "execution_count": 0,
      "outputs": [
        {
          "output_type": "stream",
          "text": [
            "/usr/local/lib/python3.6/dist-packages/statsmodels/tools/_testing.py:19: FutureWarning: pandas.util.testing is deprecated. Use the functions in the public API at pandas.testing instead.\n",
            "  import pandas.util.testing as tm\n",
            "Using TensorFlow backend.\n"
          ],
          "name": "stderr"
        }
      ]
    },
    {
      "cell_type": "code",
      "metadata": {
        "id": "0LrnqBUswbXa",
        "colab_type": "code",
        "outputId": "8248ebdb-c834-466f-ee93-ba21c7eec35b",
        "colab": {
          "base_uri": "https://localhost:8080/",
          "height": 124
        }
      },
      "source": [
        "#Mount Google Drive to read data\n",
        "from google.colab import drive\n",
        "drive.mount('/content/drive')"
      ],
      "execution_count": 0,
      "outputs": [
        {
          "output_type": "stream",
          "text": [
            "Go to this URL in a browser: https://accounts.google.com/o/oauth2/auth?client_id=947318989803-6bn6qk8qdgf4n4g3pfee6491hc0brc4i.apps.googleusercontent.com&redirect_uri=urn%3aietf%3awg%3aoauth%3a2.0%3aoob&response_type=code&scope=email%20https%3a%2f%2fwww.googleapis.com%2fauth%2fdocs.test%20https%3a%2f%2fwww.googleapis.com%2fauth%2fdrive%20https%3a%2f%2fwww.googleapis.com%2fauth%2fdrive.photos.readonly%20https%3a%2f%2fwww.googleapis.com%2fauth%2fpeopleapi.readonly\n",
            "\n",
            "Enter your authorization code:\n",
            "··········\n",
            "Mounted at /content/drive\n"
          ],
          "name": "stdout"
        }
      ]
    },
    {
      "cell_type": "code",
      "metadata": {
        "id": "uFbKgp8fZkfl",
        "colab_type": "code",
        "outputId": "86e237c7-cbb4-4428-fc8f-a7710ea6be5f",
        "colab": {
          "base_uri": "https://localhost:8080/",
          "height": 87
        }
      },
      "source": [
        "# x = pd.read_csv(\"/content/drive/My Drive/Data/x_AllData.csv\")    \n",
        "# y = pd.read_csv(\"/content/drive/My Drive/Data/y_AllData.csv\")  \n",
        "x_in = pd.read_csv(\"/content/drive/My Drive/Data/x_AllData_NOzero.csv\")    \n",
        "y_in = pd.read_csv(\"/content/drive/My Drive/Data/y_AllData_NOzero.csv\")  \n",
        "\n",
        "#Drop people with LOS < 24 (1 day)\n",
        "idx = y_in[y_in['LOS_ICU'] <= 24].index\n",
        "x_in = x_in.drop(idx)\n",
        "y_in = y_in.drop(idx)\n",
        "\n",
        "#Drop people with LOS > 24*30 (30 day)\n",
        "idx = y_in[y_in['LOS_ICU'] >= 24*30].index\n",
        "x_in = x_in.drop(idx)\n",
        "y_in = y_in.drop(idx)\n",
        "\n",
        "x_in = x_in.drop('Unnamed: 0', axis=1)\n",
        "\n",
        "#Drop people who were discharged\n",
        "idx = y_in[y_in['icustay_expire_flag'] == 0].index\n",
        "x_in = x_in.drop(idx)\n",
        "y_in = y_in.drop(idx)\n",
        "\n",
        "x = x_in\n",
        "y = y_in\n",
        "print(x.shape)\n",
        "print(y.shape)\n",
        "\n",
        "# For graphs\n",
        "idx_1 = (y['LOS_ICU']<=24*2)\n",
        "idx_0 = (y['LOS_ICU']>24*2)\n",
        "\n",
        "# Mortality within next 24 hours\n",
        "y = y['LOS_ICU']\n",
        "y[y<=24*2] = 1\n",
        "y[y>24*2] = 0\n",
        "\n",
        "np.histogram(y)"
      ],
      "execution_count": 0,
      "outputs": [
        {
          "output_type": "stream",
          "text": [
            "(2105, 125)\n",
            "(2105, 4)\n"
          ],
          "name": "stdout"
        },
        {
          "output_type": "execute_result",
          "data": {
            "text/plain": [
              "(array([1710,    0,    0,    0,    0,    0,    0,    0,    0,  395]),\n",
              " array([0. , 0.1, 0.2, 0.3, 0.4, 0.5, 0.6, 0.7, 0.8, 0.9, 1. ]))"
            ]
          },
          "metadata": {
            "tags": []
          },
          "execution_count": 3
        }
      ]
    },
    {
      "cell_type": "code",
      "metadata": {
        "id": "8oad19F27onE",
        "colab_type": "code",
        "colab": {}
      },
      "source": [
        "def reshape_features(x,features,timestamps):\n",
        "  x  = x.to_numpy()\n",
        "  patients = x.shape[0]\n",
        "  timestamps = int(x.shape[1]/features)\n",
        "  df = np.empty([patients, timestamps, features], dtype=float)\n",
        "  for i in range(0,features):\n",
        "    df[:,:,i] = x[:,(i*25):(i*25+timestamps)]\n",
        "  return df\n",
        "\n",
        "#Reshape x into 3D tensor\n",
        "\n",
        "features = 5\n",
        "timestamps = 25\n",
        "x = reshape_features(x,features,timestamps)"
      ],
      "execution_count": 0,
      "outputs": []
    },
    {
      "cell_type": "markdown",
      "metadata": {
        "id": "LFURl9TDkPZW",
        "colab_type": "text"
      },
      "source": [
        "Plot mean variation for each feature for different mortality and LOS conditions"
      ]
    },
    {
      "cell_type": "code",
      "metadata": {
        "id": "245HnatikOqf",
        "colab_type": "code",
        "colab": {}
      },
      "source": [
        "#   patient_0 = np.mean(x[idx_0,:,:], axis = 0)\n",
        "#   patient_1 = np.mean(x[idx_1,:,:], axis = 0)\n",
        "#   vital_names = ['DiasBP(mmHg)','Heart Rate(BPM)','MeanBP(mmHg)','SpO2(%)','SysBP(mmHg)']\n",
        "#   i = 4\n",
        "#   from google.colab import files\n",
        "# # for i in [0,1,2,3,4]:\n",
        "#   plt.plot(patient_0[:,i], label='LOS > 48 hours')\n",
        "#   plt.plot(patient_1[:,i], label='LOS ≤ 48 hours')\n",
        "#   plt.title('Variation of '+ vital_names[i])\n",
        "#   plt.xlabel('Hour in ICU')\n",
        "#   plt.ylabel(vital_names[i])\n",
        "#   plt.legend(loc=\"upper right\")\n",
        "#   plt.savefig(vital_names[i] + '.png', bbox_inches='tight', format='png', dpi=300)\n",
        "#   # plt.rcParams.update({'font.size': 20})\n",
        "#   # files.download(vital_names[i] + '.png')\n",
        "#   # plt.show()"
      ],
      "execution_count": 0,
      "outputs": []
    },
    {
      "cell_type": "code",
      "metadata": {
        "id": "6RwgzxQC3w8k",
        "colab_type": "code",
        "outputId": "05cc3809-4232-42d3-cf08-6b158b10ec30",
        "colab": {
          "base_uri": "https://localhost:8080/",
          "height": 35
        }
      },
      "source": [
        "#Split data\n",
        "X_train, X_test, y_train, y_test = train_test_split(x, y, test_size = 0.2, stratify = y, random_state = 25)\n",
        "y_test.shape"
      ],
      "execution_count": 0,
      "outputs": [
        {
          "output_type": "execute_result",
          "data": {
            "text/plain": [
              "(421,)"
            ]
          },
          "metadata": {
            "tags": []
          },
          "execution_count": 6
        }
      ]
    },
    {
      "cell_type": "code",
      "metadata": {
        "id": "FmYnMi5WBZzs",
        "colab_type": "code",
        "colab": {}
      },
      "source": [
        "# from sklearn.utils import class_weight\n",
        "# # Calculate class weights \n",
        "# class_weights = class_weight.compute_class_weight('balanced', np.unique(y_train), y_train)\n",
        "# class_weights = dict(enumerate(class_weights))"
      ],
      "execution_count": 0,
      "outputs": []
    },
    {
      "cell_type": "code",
      "metadata": {
        "id": "Sk4MKN8gfRrC",
        "colab_type": "code",
        "colab": {}
      },
      "source": [
        "def genData(x,y):\n",
        "  from sklearn.model_selection import train_test_split\n",
        "  # #Generate synthetic samples\n",
        "  from imblearn.over_sampling import SMOTE\n",
        "  sm = SMOTE(random_state=27, ratio=1.0)\n",
        "  features = x.shape[2]\n",
        "  # df = np.array([], dtype=int)\n",
        "  for i in range(0,features):\n",
        "    x_gen, y_gen = sm.fit_sample(x[:,:,i],y)\n",
        "    x_gen = x_gen.reshape((x_gen.shape[0],x_gen.shape[1],1))\n",
        "    print(i)\n",
        "    if i == 0:\n",
        "      X_train = x_gen\n",
        "      y_train = y_gen\n",
        "    else:\n",
        "      X_train = np.concatenate([X_train, x_gen],axis=2)\n",
        "  return X_train, y_train\n"
      ],
      "execution_count": 0,
      "outputs": []
    },
    {
      "cell_type": "code",
      "metadata": {
        "id": "NSvyhYUXi1zI",
        "colab_type": "code",
        "outputId": "8a750669-a422-4e5a-eb87-a05d7c04fb11",
        "colab": {
          "base_uri": "https://localhost:8080/",
          "height": 104
        }
      },
      "source": [
        "# # Oversampling training data\n",
        "X_train, y_train = genData(X_train,y_train)\n",
        "# # Oversampling test data\n",
        "# X_test, y_test = genData(X_test,y_test)"
      ],
      "execution_count": 0,
      "outputs": [
        {
          "output_type": "stream",
          "text": [
            "0\n",
            "1\n",
            "2\n",
            "3\n",
            "4\n"
          ],
          "name": "stdout"
        }
      ]
    },
    {
      "cell_type": "code",
      "metadata": {
        "id": "Km2uNysUK3Kc",
        "colab_type": "code",
        "outputId": "96ebfb94-0b44-4b2d-df70-e6e24e5ca84f",
        "colab": {
          "base_uri": "https://localhost:8080/",
          "height": 69
        }
      },
      "source": [
        "print(X_train.shape)\n",
        "np.histogram(y_train)"
      ],
      "execution_count": 0,
      "outputs": [
        {
          "output_type": "stream",
          "text": [
            "(2736, 25, 5)\n"
          ],
          "name": "stdout"
        },
        {
          "output_type": "execute_result",
          "data": {
            "text/plain": [
              "(array([1368,    0,    0,    0,    0,    0,    0,    0,    0, 1368]),\n",
              " array([0. , 0.1, 0.2, 0.3, 0.4, 0.5, 0.6, 0.7, 0.8, 0.9, 1. ]))"
            ]
          },
          "metadata": {
            "tags": []
          },
          "execution_count": 10
        }
      ]
    },
    {
      "cell_type": "code",
      "metadata": {
        "id": "yeVAJna0GQqf",
        "colab_type": "code",
        "outputId": "710955f2-a658-4776-abc7-539dd39591f0",
        "colab": {
          "base_uri": "https://localhost:8080/",
          "height": 69
        }
      },
      "source": [
        "print(X_test.shape)\n",
        "np.histogram(y_test)"
      ],
      "execution_count": 0,
      "outputs": [
        {
          "output_type": "stream",
          "text": [
            "(421, 25, 5)\n"
          ],
          "name": "stdout"
        },
        {
          "output_type": "execute_result",
          "data": {
            "text/plain": [
              "(array([342,   0,   0,   0,   0,   0,   0,   0,   0,  79]),\n",
              " array([0. , 0.1, 0.2, 0.3, 0.4, 0.5, 0.6, 0.7, 0.8, 0.9, 1. ]))"
            ]
          },
          "metadata": {
            "tags": []
          },
          "execution_count": 11
        }
      ]
    },
    {
      "cell_type": "code",
      "metadata": {
        "id": "KnOXtnAHOMnv",
        "colab_type": "code",
        "outputId": "531fd8f3-c22d-4bcd-d5ac-572d2844a7ff",
        "colab": {
          "base_uri": "https://localhost:8080/",
          "height": 69
        }
      },
      "source": [
        "#Split data\n",
        "X_train, X_validation, y_train, y_validation = train_test_split(X_train, y_train, test_size = 0.2, stratify = y_train, random_state = 25)\n",
        "print(X_train.shape)\n",
        "np.histogram(y_train)"
      ],
      "execution_count": 0,
      "outputs": [
        {
          "output_type": "stream",
          "text": [
            "(2188, 25, 5)\n"
          ],
          "name": "stdout"
        },
        {
          "output_type": "execute_result",
          "data": {
            "text/plain": [
              "(array([1094,    0,    0,    0,    0,    0,    0,    0,    0, 1094]),\n",
              " array([0. , 0.1, 0.2, 0.3, 0.4, 0.5, 0.6, 0.7, 0.8, 0.9, 1. ]))"
            ]
          },
          "metadata": {
            "tags": []
          },
          "execution_count": 12
        }
      ]
    },
    {
      "cell_type": "code",
      "metadata": {
        "id": "dqpZ9nVzutZ7",
        "colab_type": "code",
        "colab": {}
      },
      "source": [
        "checkpoint_name = 'Weights-{epoch:03d}--{val_loss:.5f}.hdf5'     \n",
        "# define callbacks\n",
        "cp = ModelCheckpoint(checkpoint_name, monitor='val_loss', verbose = 0, save_best_only = True, mode ='auto')\n",
        "es = EarlyStopping(monitor='val_loss', patience= 5, verbose=1)\n",
        "callbacks_list = [es]"
      ],
      "execution_count": 0,
      "outputs": []
    },
    {
      "cell_type": "code",
      "metadata": {
        "id": "cKPOGLfaQKdP",
        "colab_type": "code",
        "outputId": "89c27557-899a-4d53-8721-de68c78087f7",
        "colab": {
          "base_uri": "https://localhost:8080/",
          "height": 295
        }
      },
      "source": [
        "def get_recurrentModel(in_shape, n_classes):\n",
        "    \"\"\"\n",
        "    input data shape for recurrent network: (n , time, features)\n",
        "    \"\"\"\n",
        "    model = Sequential()\n",
        "    model.add(LSTM(100, input_shape=in_shape))\n",
        "    model.add(Dropout(0.5))\n",
        "    model.add(Dense(100, activation='relu'))\n",
        "    model.add(Dense(n_classes, activation='sigmoid'))\n",
        "    Adam(learning_rate=0.001)\n",
        "    model.compile(loss='binary_crossentropy', optimizer='adam', metrics=[AUC(), 'accuracy'])\n",
        "    model.summary()\n",
        "    return model\n",
        "\n",
        "#Build model\n",
        "in_shape = (X_train.shape[1], X_train.shape[2])\n",
        "    \n",
        "model = get_recurrentModel(in_shape, 1)\n",
        "\n",
        "#Remove Previous models\n",
        "for filename in os.listdir():\n",
        "    if filename.endswith('.hdf5'):\n",
        "        os.remove(filename)\n",
        "        print(filename)"
      ],
      "execution_count": 0,
      "outputs": [
        {
          "output_type": "stream",
          "text": [
            "Model: \"sequential_1\"\n",
            "_________________________________________________________________\n",
            "Layer (type)                 Output Shape              Param #   \n",
            "=================================================================\n",
            "lstm (LSTM)                  (None, 100)               42400     \n",
            "_________________________________________________________________\n",
            "dropout (Dropout)            (None, 100)               0         \n",
            "_________________________________________________________________\n",
            "dense (Dense)                (None, 100)               10100     \n",
            "_________________________________________________________________\n",
            "dense_1 (Dense)              (None, 1)                 101       \n",
            "=================================================================\n",
            "Total params: 52,601\n",
            "Trainable params: 52,601\n",
            "Non-trainable params: 0\n",
            "_________________________________________________________________\n"
          ],
          "name": "stdout"
        }
      ]
    },
    {
      "cell_type": "code",
      "metadata": {
        "id": "HC6cFKDRrEuv",
        "colab_type": "code",
        "outputId": "d8938b4c-fe4d-435e-edf8-2399c4d452ad",
        "colab": {
          "base_uri": "https://localhost:8080/",
          "height": 1000
        }
      },
      "source": [
        "# Train model\n",
        "hist = model.fit(X_train, y_train, epochs=50, batch_size=100, validation_data = (X_validation, y_validation), verbose=1, callbacks=callbacks_list)      \n",
        "\n",
        "#Plot training history\n",
        "def plotHist(history):\n",
        "    plt.plot(history.history['loss'], label='BC (Training data)')\n",
        "    plt.plot(history.history['val_loss'], label='BC (Validation data)')\n",
        "    plt.title('Binary Cross-Entropy(Loss) variation during training')\n",
        "    plt.ylabel('BC value')\n",
        "    plt.xlabel('No. epoch')\n",
        "    plt.legend(loc=\"upper left\")\n",
        "    # plt.savefig(\"BC.png\", bbox_inches='tight', format='png', dpi=300)\n",
        "    #files.download(\"BC.png\")\n",
        "    plt.show()\n",
        "from google.colab import files\n",
        "plotHist(hist)\n",
        "\n",
        "#Plot ROC curve\n",
        "from sklearn.metrics import roc_curve\n",
        "from sklearn.metrics import auc\n",
        "\n",
        "#ROC curve for train\n",
        "y_pred_keras = model.predict(X_train).ravel()\n",
        "fpr_train, tpr_train, thresholds_train = roc_curve(y_train, y_pred_keras)\n",
        "\n",
        "auc_traindata = auc(fpr_train, tpr_train)\n",
        "\n",
        "#ROC curve for test\n",
        "y_pred_keras2 = model.predict(X_test).ravel()\n",
        "fpr_test, tpr_test, thresholds_test = roc_curve(y_test, y_pred_keras2)\n",
        "\n",
        "auc_testdata = auc(fpr_test, tpr_test)\n",
        "\n",
        "#Plot ROC curve\n",
        "plt.figure(1)\n",
        "plt.plot([0, 1], [0, 1], 'k--')\n",
        "plt.plot(fpr_train, tpr_train, label='Train (area = {:.3f})'.format(auc_traindata))\n",
        "plt.plot(fpr_test, tpr_test, label='Test (area = {:.3f})'.format(auc_testdata))\n",
        "plt.xlabel('False positive rate')\n",
        "plt.ylabel('True positive rate')\n",
        "plt.title('ROC curve')\n",
        "plt.legend(loc='best')\n",
        "plt.savefig(\"ROC.png\", bbox_inches='tight', format='png', dpi=300)\n",
        "plt.show()\n",
        "# Zoom in view of the upper left corner.\n",
        "plt.figure(2)\n",
        "plt.xlim(0, 0.2)\n",
        "plt.ylim(0.8, 1)\n",
        "plt.plot([0, 1], [0, 1], 'k--')\n",
        "plt.plot(fpr_train, tpr_train, label='Train (area = {:.3f})'.format(auc_traindata))\n",
        "plt.plot(fpr_test, tpr_test, label='Test (area = {:.3f})'.format(auc_testdata))\n",
        "plt.xlabel('False positive rate')\n",
        "plt.ylabel('True positive rate')\n",
        "plt.title('ROC curve (zoomed in at top left)')\n",
        "plt.legend(loc='best')\n",
        "plt.show()\n",
        "\n",
        "# Calculate confusion matrix\n",
        "predictions = model.predict(X_test)\n",
        "pred = model.predict(X_test)\n",
        "predictions[predictions>0.5] = 1\n",
        "predictions[predictions<0.5] = 0\n",
        "predictions.astype(int)\n",
        "from sklearn.metrics import accuracy_score\n",
        "from sklearn.metrics import precision_score\n",
        "from sklearn.metrics import recall_score\n",
        "from sklearn.metrics import f1_score\n",
        "from sklearn.metrics import cohen_kappa_score\n",
        "from sklearn.metrics import roc_auc_score\n",
        "from sklearn.metrics import confusion_matrix\n",
        "\n",
        "# accuracy: (tp + tn) / (p + n)\n",
        "accuracy = accuracy_score(y_test, predictions)\n",
        "print('Accuracy: %f' % accuracy)\n",
        "# precision tp / (tp + fp)\n",
        "precision = precision_score(y_test, predictions)\n",
        "print('Precision: %f' % precision)\n",
        "# recall: tp / (tp + fn)\n",
        "recall = recall_score(y_test, predictions)\n",
        "print('Recall: %f' % recall)\n",
        "# f1: 2 tp / (2 tp + fp + fn)\n",
        "f1 = f1_score(y_test, predictions)\n",
        "print('F1 score: %f' % f1)\n",
        " \n",
        "# kappa\n",
        "kappa = cohen_kappa_score(y_test, predictions)\n",
        "print('Cohens kappa: %f' % kappa)\n",
        "# ROC AUC\n",
        "auc = roc_auc_score(y_test, pred)\n",
        "print('ROC AUC: %f' % auc)\n",
        "# confusion matrix\n",
        "matrix = confusion_matrix(y_test, predictions)\n",
        "print(matrix)\n",
        "\n"
      ],
      "execution_count": 0,
      "outputs": [
        {
          "output_type": "stream",
          "text": [
            "Epoch 1/50\n",
            "22/22 [==============================] - 1s 32ms/step - loss: 0.7051 - auc: 0.5359 - accuracy: 0.5288 - val_loss: 0.6748 - val_auc: 0.6201 - val_accuracy: 0.5420\n",
            "Epoch 2/50\n",
            "22/22 [==============================] - 0s 7ms/step - loss: 0.6790 - auc: 0.5958 - accuracy: 0.5750 - val_loss: 0.6583 - val_auc: 0.6329 - val_accuracy: 0.6040\n",
            "Epoch 3/50\n",
            "22/22 [==============================] - 0s 7ms/step - loss: 0.6642 - auc: 0.6298 - accuracy: 0.5978 - val_loss: 0.6505 - val_auc: 0.6449 - val_accuracy: 0.6168\n",
            "Epoch 4/50\n",
            "22/22 [==============================] - 0s 7ms/step - loss: 0.6552 - auc: 0.6451 - accuracy: 0.6042 - val_loss: 0.6439 - val_auc: 0.6409 - val_accuracy: 0.6241\n",
            "Epoch 5/50\n",
            "22/22 [==============================] - 0s 6ms/step - loss: 0.6530 - auc: 0.6487 - accuracy: 0.6028 - val_loss: 0.6437 - val_auc: 0.6503 - val_accuracy: 0.5967\n",
            "Epoch 6/50\n",
            "22/22 [==============================] - 0s 6ms/step - loss: 0.6516 - auc: 0.6493 - accuracy: 0.6028 - val_loss: 0.6398 - val_auc: 0.6491 - val_accuracy: 0.6168\n",
            "Epoch 7/50\n",
            "22/22 [==============================] - 0s 6ms/step - loss: 0.6413 - auc: 0.6681 - accuracy: 0.6248 - val_loss: 0.6340 - val_auc: 0.6639 - val_accuracy: 0.6131\n",
            "Epoch 8/50\n",
            "22/22 [==============================] - 0s 7ms/step - loss: 0.6405 - auc: 0.6615 - accuracy: 0.6252 - val_loss: 0.6326 - val_auc: 0.6721 - val_accuracy: 0.6223\n",
            "Epoch 9/50\n",
            "22/22 [==============================] - 0s 7ms/step - loss: 0.6400 - auc: 0.6635 - accuracy: 0.6229 - val_loss: 0.6256 - val_auc: 0.6758 - val_accuracy: 0.6277\n",
            "Epoch 10/50\n",
            "22/22 [==============================] - 0s 7ms/step - loss: 0.6344 - auc: 0.6708 - accuracy: 0.6184 - val_loss: 0.6253 - val_auc: 0.6687 - val_accuracy: 0.6241\n",
            "Epoch 11/50\n",
            "22/22 [==============================] - 0s 6ms/step - loss: 0.6353 - auc: 0.6688 - accuracy: 0.6330 - val_loss: 0.6240 - val_auc: 0.6753 - val_accuracy: 0.6204\n",
            "Epoch 12/50\n",
            "22/22 [==============================] - 0s 6ms/step - loss: 0.6275 - auc: 0.6851 - accuracy: 0.6403 - val_loss: 0.6216 - val_auc: 0.6747 - val_accuracy: 0.6350\n",
            "Epoch 13/50\n",
            "22/22 [==============================] - 0s 7ms/step - loss: 0.6282 - auc: 0.6807 - accuracy: 0.6339 - val_loss: 0.6197 - val_auc: 0.6830 - val_accuracy: 0.6551\n",
            "Epoch 14/50\n",
            "22/22 [==============================] - 0s 7ms/step - loss: 0.6236 - auc: 0.6907 - accuracy: 0.6431 - val_loss: 0.6152 - val_auc: 0.6861 - val_accuracy: 0.6478\n",
            "Epoch 15/50\n",
            "22/22 [==============================] - 0s 6ms/step - loss: 0.6265 - auc: 0.6827 - accuracy: 0.6367 - val_loss: 0.6231 - val_auc: 0.6930 - val_accuracy: 0.6168\n",
            "Epoch 16/50\n",
            "22/22 [==============================] - 0s 7ms/step - loss: 0.6175 - auc: 0.6979 - accuracy: 0.6481 - val_loss: 0.6171 - val_auc: 0.7070 - val_accuracy: 0.6387\n",
            "Epoch 17/50\n",
            "22/22 [==============================] - 0s 7ms/step - loss: 0.6225 - auc: 0.6875 - accuracy: 0.6321 - val_loss: 0.6107 - val_auc: 0.7001 - val_accuracy: 0.6569\n",
            "Epoch 18/50\n",
            "22/22 [==============================] - 0s 7ms/step - loss: 0.6180 - auc: 0.6935 - accuracy: 0.6444 - val_loss: 0.6056 - val_auc: 0.7126 - val_accuracy: 0.6642\n",
            "Epoch 19/50\n",
            "22/22 [==============================] - 0s 7ms/step - loss: 0.6139 - auc: 0.6971 - accuracy: 0.6376 - val_loss: 0.6100 - val_auc: 0.7136 - val_accuracy: 0.6624\n",
            "Epoch 20/50\n",
            "22/22 [==============================] - 0s 6ms/step - loss: 0.6116 - auc: 0.7039 - accuracy: 0.6554 - val_loss: 0.6024 - val_auc: 0.7217 - val_accuracy: 0.6807\n",
            "Epoch 21/50\n",
            "22/22 [==============================] - 0s 7ms/step - loss: 0.6133 - auc: 0.7069 - accuracy: 0.6654 - val_loss: 0.6055 - val_auc: 0.7110 - val_accuracy: 0.6606\n",
            "Epoch 22/50\n",
            "22/22 [==============================] - 0s 7ms/step - loss: 0.6180 - auc: 0.6967 - accuracy: 0.6499 - val_loss: 0.6089 - val_auc: 0.7136 - val_accuracy: 0.6624\n",
            "Epoch 23/50\n",
            "22/22 [==============================] - 0s 7ms/step - loss: 0.6048 - auc: 0.7180 - accuracy: 0.6600 - val_loss: 0.5992 - val_auc: 0.7196 - val_accuracy: 0.6478\n",
            "Epoch 24/50\n",
            "22/22 [==============================] - 0s 6ms/step - loss: 0.6012 - auc: 0.7166 - accuracy: 0.6654 - val_loss: 0.6031 - val_auc: 0.7328 - val_accuracy: 0.6533\n",
            "Epoch 25/50\n",
            "22/22 [==============================] - 0s 6ms/step - loss: 0.6125 - auc: 0.7072 - accuracy: 0.6568 - val_loss: 0.6305 - val_auc: 0.6874 - val_accuracy: 0.6332\n",
            "Epoch 26/50\n",
            "22/22 [==============================] - 0s 7ms/step - loss: 0.6147 - auc: 0.7013 - accuracy: 0.6481 - val_loss: 0.6028 - val_auc: 0.7073 - val_accuracy: 0.6551\n",
            "Epoch 27/50\n",
            "22/22 [==============================] - 0s 6ms/step - loss: 0.6048 - auc: 0.7165 - accuracy: 0.6568 - val_loss: 0.5998 - val_auc: 0.7159 - val_accuracy: 0.6715\n",
            "Epoch 28/50\n",
            "22/22 [==============================] - 0s 7ms/step - loss: 0.6023 - auc: 0.7177 - accuracy: 0.6581 - val_loss: 0.5943 - val_auc: 0.7228 - val_accuracy: 0.6788\n",
            "Epoch 29/50\n",
            "22/22 [==============================] - 0s 7ms/step - loss: 0.6034 - auc: 0.7138 - accuracy: 0.6632 - val_loss: 0.5955 - val_auc: 0.7196 - val_accuracy: 0.6606\n",
            "Epoch 30/50\n",
            "22/22 [==============================] - 0s 6ms/step - loss: 0.6055 - auc: 0.7169 - accuracy: 0.6622 - val_loss: 0.6091 - val_auc: 0.7329 - val_accuracy: 0.6277\n",
            "Epoch 31/50\n",
            "22/22 [==============================] - 0s 6ms/step - loss: 0.6033 - auc: 0.7186 - accuracy: 0.6673 - val_loss: 0.5954 - val_auc: 0.7279 - val_accuracy: 0.6569\n",
            "Epoch 32/50\n",
            "22/22 [==============================] - 0s 6ms/step - loss: 0.6103 - auc: 0.7051 - accuracy: 0.6485 - val_loss: 0.6033 - val_auc: 0.7140 - val_accuracy: 0.6642\n",
            "Epoch 33/50\n",
            "22/22 [==============================] - 0s 6ms/step - loss: 0.6006 - auc: 0.7143 - accuracy: 0.6600 - val_loss: 0.6054 - val_auc: 0.7234 - val_accuracy: 0.6551\n",
            "Epoch 00033: early stopping\n"
          ],
          "name": "stdout"
        },
        {
          "output_type": "display_data",
          "data": {
            "image/png": "[encoded data removed]",
            "text/plain": [
              "<Figure size 432x288 with 1 Axes>"
            ]
          },
          "metadata": {
            "tags": [],
            "needs_background": "light"
          }
        },
        {
          "output_type": "display_data",
          "data": {
            "image/png": "[encoded data removed]",
            "text/plain": [
              "<Figure size 432x288 with 1 Axes>"
            ]
          },
          "metadata": {
            "tags": [],
            "needs_background": "light"
          }
        },
        {
          "output_type": "display_data",
          "data": {
            "image/png": "[encoded data removed]",
            "text/plain": [
              "<Figure size 432x288 with 1 Axes>"
            ]
          },
          "metadata": {
            "tags": [],
            "needs_background": "light"
          }
        },
        {
          "output_type": "stream",
          "text": [
            "Accuracy: 0.655582\n",
            "Precision: 0.318681\n",
            "Recall: 0.734177\n",
            "F1 score: 0.444444\n",
            "Cohens kappa: 0.247519\n",
            "ROC AUC: 0.744948\n",
            "[[218 124]\n",
            " [ 21  58]]\n"
          ],
          "name": "stdout"
        }
      ]
    },
    {
      "cell_type": "markdown",
      "metadata": {
        "id": "6t-i42V7x1jK",
        "colab_type": "text"
      },
      "source": [
        "Train the model several times to get a good understanding of the performance"
      ]
    },
    {
      "cell_type": "code",
      "metadata": {
        "id": "HiSkaSPoU8UV",
        "colab_type": "code",
        "outputId": "7a76ae99-69bb-4f34-d79c-4024275cb3da",
        "colab": {
          "base_uri": "https://localhost:8080/",
          "height": 627
        }
      },
      "source": [
        "  # fit and evaluate a model\n",
        "def evaluate_model(X_train, y_train, X_test, y_test, n_batch):\n",
        "\t# fit network\n",
        "\tmodel.fit(X_train, y_train, epochs=50, batch_size=n_batch, validation_data = (X_validation, y_validation), verbose=0, callbacks=callbacks_list)\n",
        "\t# evaluate model\n",
        "\t_, AUC_ROC, Acc = model.evaluate(X_test, y_test)\n",
        "\treturn AUC_ROC, Acc\n",
        "\n",
        "# summarize scores\n",
        "def summarize_results(scores,metric_type):\n",
        "\tprint(scores)\n",
        "\tm, s = np.mean(scores), np.std(scores)\n",
        "\tprint(metric_type+': %.3f%% (+/-%.3f)' % (m, s))\n",
        "\n",
        "repeats = 10\n",
        "# repeat experiment\n",
        "scores = list()\n",
        "accuracies = list()\n",
        "n_batch = [10, 50, 100, 500, 1000, 5000] \n",
        "# for r in range(len(n_batch)):\n",
        "# \tscore, acc = evaluate_model(X_train, y_train, X_test, y_test, n_batch[r])\n",
        "\t# print(n_batch[r])\n",
        "for r in range(repeats):\n",
        "\tscore, acc = evaluate_model(X_train, y_train, X_test, y_test, 100)\n",
        "\tscore = score * 100.0\n",
        "\tacc = acc*100.0\n",
        "\tprint('>#%d: %.3f' % (r+1, score))\n",
        "\tscores.append(score)\n",
        "\taccuracies.append(acc)\n",
        "\t# summarize results\n",
        "summarize_results(scores,'AUC')\n",
        "summarize_results(accuracies,'Accuracy')"
      ],
      "execution_count": 0,
      "outputs": [
        {
          "output_type": "stream",
          "text": [
            "Epoch 00025: early stopping\n",
            "14/14 [==============================] - 0s 3ms/step - loss: 0.7531 - auc: 0.7154 - accuracy: 0.5202\n",
            ">#1: 71.545\n",
            "Epoch 00006: early stopping\n",
            "14/14 [==============================] - 0s 3ms/step - loss: 0.6045 - auc: 0.7101 - accuracy: 0.7245\n",
            ">#2: 71.014\n",
            "Epoch 00012: early stopping\n",
            "14/14 [==============================] - 0s 3ms/step - loss: 0.7115 - auc: 0.7168 - accuracy: 0.5867\n",
            ">#3: 71.684\n",
            "Epoch 00013: early stopping\n",
            "14/14 [==============================] - 0s 4ms/step - loss: 0.5806 - auc: 0.7264 - accuracy: 0.7173\n",
            ">#4: 72.642\n",
            "Epoch 00012: early stopping\n",
            "14/14 [==============================] - 0s 3ms/step - loss: 0.7235 - auc: 0.7234 - accuracy: 0.5914\n",
            ">#5: 72.341\n",
            "Epoch 00007: early stopping\n",
            "14/14 [==============================] - 0s 3ms/step - loss: 0.6137 - auc: 0.7125 - accuracy: 0.6912\n",
            ">#6: 71.251\n",
            "Epoch 00012: early stopping\n",
            "14/14 [==============================] - 0s 3ms/step - loss: 0.6483 - auc: 0.7198 - accuracy: 0.6603\n",
            ">#7: 71.976\n",
            "Epoch 00007: early stopping\n",
            "14/14 [==============================] - 0s 3ms/step - loss: 0.6793 - auc: 0.7171 - accuracy: 0.6485\n",
            ">#8: 71.706\n",
            "Epoch 00012: early stopping\n",
            "14/14 [==============================] - 0s 3ms/step - loss: 0.7575 - auc: 0.7258 - accuracy: 0.6033\n",
            ">#9: 72.585\n",
            "Epoch 00012: early stopping\n",
            "14/14 [==============================] - 0s 3ms/step - loss: 0.6321 - auc: 0.7237 - accuracy: 0.6603\n",
            ">#10: 72.370\n",
            "[71.54489755630493, 71.01377248764038, 71.68369889259338, 72.64230847358704, 72.34065532684326, 71.25064134597778, 71.97608351707458, 71.70589566230774, 72.5849449634552, 72.37026691436768]\n",
            "AUC: 71.911% (+/-0.535)\n",
            "[52.01900005340576, 72.4465548992157, 58.669835329055786, 71.73396944999695, 59.14489030838013, 69.12114024162292, 66.03325605392456, 64.84560370445251, 60.33254265785217, 66.03325605392456]\n",
            "Accuracy: 64.038% (+/-6.126)\n"
          ],
          "name": "stdout"
        }
      ]
    },
    {
      "cell_type": "code",
      "metadata": {
        "id": "4qJBMugn8kPd",
        "colab_type": "code",
        "colab": {}
      },
      "source": [
        "# model.save_weights(\"/content/drive/My Drive/\")"
      ],
      "execution_count": 0,
      "outputs": []
    },
    {
      "cell_type": "code",
      "metadata": {
        "id": "TvyloXfH584w",
        "colab_type": "code",
        "colab": {}
      },
      "source": [
        ""
      ],
      "execution_count": 0,
      "outputs": []
    }
  ]
}